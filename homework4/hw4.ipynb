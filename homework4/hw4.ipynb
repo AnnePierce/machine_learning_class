{
 "cells": [
  {
   "cell_type": "markdown",
   "metadata": {},
   "source": [
    "# MSBC5180 HW4: Sentiment Classification \n",
    "\n",
    "### Solution by: Anne Pierce"
   ]
  },
  {
   "cell_type": "markdown",
   "metadata": {},
   "source": [
    "In this assignment, you will classify the *sentiment* (positive, negative, or neutral) of hotel reviews posted on Yelp. See Chapter 8 of the textbook for more explanation of sentiment classification. The main goal of this assignment is to get practice with feature engineering, feature extraction, and feature selection."
   ]
  },
  {
   "cell_type": "markdown",
   "metadata": {},
   "source": [
    "## What to Hand In\n",
    "You will turn in a completed notebook on Canvas as a ipynb file. Your submission should be contained in a single Jupyter notebook named `hw4-firtname-lastname.ipynb`, where `firstname` and `lastname` are replaced with your first and last names. This will include your code as well as figures and answers to questions. Please create headers for your cells that are labeled “Deliverable” followed by the problem number, so that your responses are easy to find.\n",
    "\n",
    "## The Associated Quiz\n",
    "You will complete the associated quiz for HW4 on Canvas. The quiz is name **\"Quiz HW4 \"**.\n",
    "\n",
    "## Collaboration policies\n",
    "You are allowed to work with up to 3 people besides yourself. You are still expected to write up your own solution. Each individual must turn in their own submission, and list your collaborators after your name.\n",
    "\n",
    "## Asking for Help\n",
    "You are encouraged to ask questions on the Zoom channel. Do not post anything that you are turning in. In this assignment, that would be any of the plots you need to hand in, or the parameter values. However, you can describe your results, like the number of iterations it took to converge, and general things you observe about the algorithms.\n",
    "You may ask questions to help with debugging, but do not post your code in a way of giving away solution. You can share error messages and describe what you are trying to do with your code, but try not to write enough to “give away” the solution."
   ]
  },
  {
   "cell_type": "markdown",
   "metadata": {},
   "source": [
    "## Annotated data\n",
    "\n",
    "The dataset contains 1,000 reviews of hotels downloaded from Yelp. Sentiment labels could be one of three classes (positive, negative, neutral). Each review is labeled as:\n",
    "\n",
    "- **1:** The review expresses a *positive* opinion toward the hotel.\n",
    "- **0:** The review expresses a mixed or neutral opinion toward the hotel.\n",
    "- **-1:** The review expresses a *negative* opinion toward the hotel.\n",
    "\n",
    "In this assignment, you will build classifiers to predict these three classes. The dataset has been prepared for you. A random subset (approximately 10% of the reviews) was selected as test data, while the rest will be used for training. Run the code below to download and extract the data."
   ]
  },
  {
   "cell_type": "code",
   "execution_count": 21,
   "metadata": {},
   "outputs": [],
   "source": [
    "import pandas as pd\n",
    "import numpy as np\n",
    "\n",
    "df = pd.read_csv('yelp_hotels1000.csv', \n",
    "                 header=None, encoding='ISO-8859-1')\n",
    "\n",
    "df_train = df.loc[df[1] == 'train']\n",
    "df_test = df.loc[df[1] == 'test']\n",
    "\n",
    "Y_train = df_train.iloc[0:, 2].values\n",
    "text_train = df_train.iloc[0:, 3].values\n",
    "\n",
    "Y_test = df_test.iloc[0:, 2].values\n",
    "text_test = df_test.iloc[0:, 3].values"
   ]
  },
  {
   "cell_type": "markdown",
   "metadata": {},
   "source": [
    "## Setting up the classifier\n",
    "\n",
    "### Tokenization and feature extraction\n",
    "\n",
    "The first step is to convert the raw text into feature vectors. In Ch. 8 of the book, and in HW2, the class [`CountVectorizer`](http://scikit-learn.org/stable/modules/generated/sklearn.feature_extraction.text.CountVectorizer.html) is presented as a way to convert text strings into `sklearn` feature vectors. This class can automatically perform tokenization (doing preprocessing steps we talked about in class, including lowercasing and stripping punctuation). However, for this assignment, we aren't going to use `CountVectorizer`, though it is useful to know about. We will instead write our own code to do tokenization and feature extraction. This will allow us to modify the features, which you will need to do later, plus it will let you see how feature extraction is done.\n",
    "\n",
    "The code below defines our feature extraction function, `features`. It takes a text string and it outputs a Python dictionary where the keys are the feature names and the values are the feature values. This is a _sparse_ representation, meaning it only outputs features with nonzero value.\n",
    "\n",
    "By default, the features extracted by this function are n-gram counts. The keyword argument `ngram_range` specifies the length of n-grams to extract. This argument should be a pair of integers, where the first integer is the lower end of the length to be extracted and the second integer is the upper end. For example, `ngram_range=(1,3)` will extract 1-grams, 2-grams, and 3-grams, while `ngram_range=(2,2)` will extract only 2-grams.\n",
    "\n",
    "The function performs two initial preprocessing steps: making the text lowercase (so different capitalizations of words will map to the same feature), and removing consecutive characters that are repeated more than twice (e.g., \"woooow\" and \"wooooooooow\" will both map to simply \"woow\" rather than being counted as separate words).\n",
    "\n",
    "The function tokenizes words as follows. First, non-alphanumeric characters are replaced with whitespace, then strings separated by whitespace are treated as tokens. Python's `split` function converts a string into a list of tokens that were separated by whitespace. The list of tokens is passed to the `ngrams` function, defined below, which returns a list of all n-grams of length `n` contained in the list. Finally, the function also pulls out tokens containing anything _but_ alphanumeric characters. This will capture punctuation marks and emojis, which may also be useful for classification. These are treated as unigram features rather than longer sequences.\n",
    "\n",
    "For now, simply run the code below. However, you'll need to modify this code later, so you need to understand what it is doing."
   ]
  },
  {
   "cell_type": "code",
   "execution_count": 54,
   "metadata": {},
   "outputs": [],
   "source": [
    "import re\n",
    "from collections import Counter\n",
    "\n",
    "def ngrams(tokens, n):\n",
    "    output = []\n",
    "    for i in range(n-1, len(tokens)):\n",
    "        ngram = ' '.join(tokens[i-n+1:i+1])\n",
    "        output.append(ngram)\n",
    "    return output\n",
    "\n",
    "def features(text, ngram_range=(1,1)):\n",
    "    text = text.lower()      # make the string lowercase\n",
    "    text = re.sub(r'(.)\\1+', r'\\1\\1', text)     # remove consecutive characters that are repeated more than twice\n",
    "    \n",
    "    features_in_text = []   # running list of all features in this instance (can be repeated)\n",
    "    \n",
    "    # treat alphanumeric characters as word tokens (removing anything else),\n",
    "    # and extract all n-grams of length n specified by ngram_range\n",
    "    \n",
    "    text_alphanum = re.sub('[^a-z0-9]', ' ', text)\n",
    "    for n in range(ngram_range[0], ngram_range[1]+1):\n",
    "        features_in_text += ngrams(text_alphanum.split(), n)\n",
    "    \n",
    "    # now treat punctuation as word tokens, and get their counts (only unigrams)\n",
    "    \n",
    "    text_punc = re.sub('[a-z0-9]', ' ', text)\n",
    "    features_in_text += ngrams(text_punc.split(), 1)\n",
    "    \n",
    "    # 'Counter' converts a list into a dictionary whose keys are the list elements \n",
    "    #  and the values are the number of times each element appeared in the list\n",
    "    \n",
    "    return Counter(features_in_text)\n"
   ]
  },
  {
   "cell_type": "markdown",
   "metadata": {},
   "source": [
    "To get a better understanding of what the `features` function is returning, see what happens on the example text when you run the code below. The `ngram_range` is set to `(1,2)` which means it will extract both 1-grams and 2-grams. You should notice that it extracts all words (separated by punctuation) and two-word phrases, with counts based on how often they appear (e.g., \"`a sentence`\" is a 2-gram that appears twice). Also note that punctuation is also counted (but only as 1-grams, not 2-grams), and notice that \"`!!`\" has a count of 2 because \"!!!\" was rewritten as \"!!\".\n",
    "\n",
    "You may find it helpful to change the text and/or the n-gram range to see what features are extracted."
   ]
  },
  {
   "cell_type": "code",
   "execution_count": 55,
   "metadata": {},
   "outputs": [
    {
     "name": "stdout",
     "output_type": "stream",
     "text": [
      "this is an example of a sentence to tokenize   actually  it s more than a sentence  it s two sentences  \n",
      "Counter({'a': 2, 'sentence': 2, 'it': 2, 's': 2, 'a sentence': 2, 'it s': 2, '!!': 2, ',': 2, \"'\": 2, 'this': 1, 'is': 1, 'an': 1, 'example': 1, 'of': 1, 'to': 1, 'tokenize': 1, 'actually': 1, 'more': 1, 'than': 1, 'two': 1, 'sentences': 1, 'this is': 1, 'is an': 1, 'an example': 1, 'example of': 1, 'of a': 1, 'sentence to': 1, 'to tokenize': 1, 'tokenize actually': 1, 'actually it': 1, 's more': 1, 'more than': 1, 'than a': 1, 'sentence it': 1, 's two': 1, 'two sentences': 1})\n"
     ]
    }
   ],
   "source": [
    "text = \"This is an example of a sentence to tokenize!! Actually, it's more than a sentence, it's two sentences!!!\"\n",
    "\n",
    "print(features(text, ngram_range=(1,2)))"
   ]
  },
  {
   "cell_type": "markdown",
   "metadata": {},
   "source": [
    "Finally, we need to extract features from all of the training instances and convert them into a feature vector representation to be used by `sklearn`. The code below takes the output of the `features` function (with only 1-grams for this example, though you will change this later), then maps all the feature strings into integers, then defines `X_train` as a sparse array that encodes the values of each feature in each instance. Like in HW2, the [`DictVectorizer`](http://scikit-learn.org/stable/modules/generated/sklearn.feature_extraction.DictVectorizer.html) is used to do this conversion. "
   ]
  },
  {
   "cell_type": "code",
   "execution_count": 24,
   "metadata": {},
   "outputs": [],
   "source": [
    "from sklearn.feature_extraction import DictVectorizer\n",
    "\n",
    "vect = DictVectorizer()\n",
    "X_train = vect.fit_transform(features(d, ngram_range=(1,3)) for d in text_train)"
   ]
  },
  {
   "cell_type": "markdown",
   "metadata": {},
   "source": [
    "### Classifier and hyperparameter tuning\n",
    "\n",
    "In this assignment, we will use multinomial logistic regression as our classifier. Recall that logistic regression outputs probabilities, and the multinomial version can handle more than two classes. Mulinomial logistic regression is also called a \"maximum entropy\" or \"MaxEnt\" classifier.\n",
    "\n",
    "We will use `sklearn`'s [`LogisticRegression`](http://scikit-learn.org/stable/modules/generated/sklearn.linear_model.LogisticRegression.html) class, setting the `multi_class` argument to `'multinomial'` which tells it to use the multinomial version (otherwise it defaults to binary logistic regression with a one-vs-rest scheme for multiclass data).\n",
    "\n",
    "The `LogisticRegression` class uses the argument `C` to denote the regularization strength (same as in the `SVC` class you used in HW3). It is important to adjust this hyperparameter to get good performance. We will tune this hyperparameter each time we build a classifier, using cross-validation for optimizing `C`. \n",
    "\n",
    "`sklearn` has a class, [`GridSearchCV`](http://scikit-learn.org/stable/modules/generated/sklearn.model_selection.GridSearchCV.html) for tuning a classifier with cross-validation. When you construct a `GridSearchCV` object, you supply the set of parameters and their possible values that you would like to adjust. During training, it will perform cross-validation with every combination of parameter values, then train a final classifier using the best-performing settings. In the code, only a small number of values are listed, because it would be too slow to try many combinations."
   ]
  },
  {
   "cell_type": "code",
   "execution_count": 7,
   "metadata": {},
   "outputs": [
    {
     "name": "stdout",
     "output_type": "stream",
     "text": [
      "{'cv': 3, 'error_score': nan, 'estimator__C': 1.0, 'estimator__class_weight': None, 'estimator__dual': False, 'estimator__fit_intercept': True, 'estimator__intercept_scaling': 1, 'estimator__l1_ratio': None, 'estimator__max_iter': 500, 'estimator__multi_class': 'multinomial', 'estimator__n_jobs': None, 'estimator__penalty': 'l2', 'estimator__random_state': 123, 'estimator__solver': 'lbfgs', 'estimator__tol': 0.01, 'estimator__verbose': 0, 'estimator__warm_start': False, 'estimator': LogisticRegression(max_iter=500, multi_class='multinomial', random_state=123,\n",
      "                   tol=0.01), 'n_jobs': None, 'param_grid': [{'C': [0.01, 0.1, 1.0]}], 'pre_dispatch': '2*n_jobs', 'refit': True, 'return_train_score': False, 'scoring': None, 'verbose': 0}\n",
      "Best parameter settings: {'C': 1.0}\n",
      "Validation accuracy: 0.730317\n"
     ]
    }
   ],
   "source": [
    "from sklearn.linear_model import LogisticRegression\n",
    "from sklearn.model_selection import GridSearchCV, cross_val_predict\n",
    "from sklearn.metrics import accuracy_score\n",
    "\n",
    "# this defines the classifier we will use -- don't change this variable\n",
    "\n",
    "base_classifier = LogisticRegression(multi_class='multinomial', solver='lbfgs', tol=1e-2, max_iter=500, random_state=123)\n",
    "\n",
    "# these are the C values we will compare -- don't change this variable\n",
    "\n",
    "params = [{'C': [0.01, 0.1, 1.0]}]\n",
    "\n",
    "# this performs 3-fold cross-validation with the above classifier and parameter options\n",
    "\n",
    "gs_classifier = GridSearchCV(base_classifier, params, cv=3)\n",
    "gs_classifier.fit(X_train, Y_train)\n",
    "\n",
    "print(gs_classifier.get_params())\n",
    "\n",
    "print(\"Best parameter settings:\", gs_classifier.best_params_)\n",
    "print(\"Validation accuracy: %0.6f\" % gs_classifier.best_score_)"
   ]
  },
  {
   "cell_type": "markdown",
   "metadata": {},
   "source": [
    "In the code above, calling `gs_classifier.fit` will perform cross-validation for all parameter settings. Once it finishes, then `gs_classifier` can be used as any other classifier object, so you can call the `predict` or `predict_proba` functions to make classifications, just as you did in HW3. As you can see in the code above, the object also contains variables that will give you the optimal parameters and cross-validation accuracy.\n",
    "\n",
    "Throughout this assignment, anytime you are asked to train a classifier, you should do so by calling `GridSearchCV(base_classifier, params, cv=3)` rather than directly calling the `LogisticRegression` class. Whenever you are asked for the cross-validation accuracy, this is given by the `best_score_` variable that you see above."
   ]
  },
  {
   "cell_type": "markdown",
   "metadata": {},
   "source": [
    "## Problem 1: Feature Choice and Selection\n",
    "\n",
    "We will begin by experimenting with different feature sets, where we modify the feature set in two ways. First, we will experiment with different sizes of n-grams. Second, we will experiment with automated feature selection."
   ]
  },
  {
   "cell_type": "markdown",
   "metadata": {},
   "source": [
    "### N-gram size\n",
    "\n",
    "As you saw above, the `features` function takes a keyword argument, `ngram_range`, that let's you specify the sizes of n-grams to extract. Experiment with six different ranges of n-gram sizes: (1,1), (2,2), (3,3), (1,2), (1,3), (2,3)\n",
    "\n",
    "For each n-gram range, you'll need to re-extract and vectorize the features (calling the `features` and `vect.fit_transform` functions, as done above). For each setting, calculate the cross-validation accuracy after using `GridSearchCV` to find the best $C$ value.\n",
    "\n",
    "#### Deliverable 1.1: Fill in the table below with the cross-validation accuracy when using each range of n-grams.\n",
    "\n",
    "| N-grams | Validation accuracy |\n",
    "|---------|---------------------|\n",
    "| (1,1)   |   0.753913          |\n",
    "| (2,2)   |   0.695502          |\n",
    "| (3,3)   |   0.619104          |\n",
    "| (1,2)   |   0.742667          |\n",
    "| (1,3)   |   0.730317          |\n",
    "| (2,3)   |   0.677534          |\n",
    "\n"
   ]
  },
  {
   "cell_type": "code",
   "execution_count": 13,
   "metadata": {},
   "outputs": [
    {
     "name": "stdout",
     "output_type": "stream",
     "text": [
      "This is n-gram size: (1, 1)\n",
      "Best parameter settings: {'C': 0.1}\n",
      "Validation accuracy: 0.753913\n",
      "This is n-gram size: (2, 2)\n",
      "Best parameter settings: {'C': 1.0}\n",
      "Validation accuracy: 0.695502\n",
      "This is n-gram size: (3, 3)\n",
      "Best parameter settings: {'C': 0.1}\n",
      "Validation accuracy: 0.619104\n",
      "This is n-gram size: (1, 2)\n",
      "Best parameter settings: {'C': 1.0}\n",
      "Validation accuracy: 0.742667\n",
      "This is n-gram size: (1, 3)\n",
      "Best parameter settings: {'C': 1.0}\n",
      "Validation accuracy: 0.730317\n",
      "This is n-gram size: (2, 3)\n",
      "Best parameter settings: {'C': 1.0}\n",
      "Validation accuracy: 0.677534\n"
     ]
    }
   ],
   "source": [
    "# code for 1.1 here\n",
    "ngram_sizes = [(1,1), (2,2), (3,3), (1,2), (1,3), (2,3)]\n",
    "for i in ngram_sizes:\n",
    "    X_train = vect.fit_transform(features(d, ngram_range=i) for d in text_train)\n",
    "    params = [{'C': [0.01, 0.1, 1.0]}]\n",
    "\n",
    "    # this performs 3-fold cross-validation with the above classifier and parameter options\n",
    "\n",
    "    gs_classifier = GridSearchCV(base_classifier, params, cv=3)\n",
    "    gs_classifier.fit(X_train, Y_train)\n",
    "\n",
    "    #print(gs_classifier.get_params())\n",
    "    print(\"This is n-gram size:\", i)\n",
    "    print(\"Best parameter settings:\", gs_classifier.best_params_)\n",
    "    print(\"Validation accuracy: %0.6f\" % gs_classifier.best_score_)"
   ]
  },
  {
   "cell_type": "markdown",
   "metadata": {},
   "source": [
    "#### Deliverable 1.2: Describe what you observe with different length n-grams. When using only one type of n-gram (1, 2, or 3), how does the length affect accuracy? How does using only one size of n-gram (1, 2, or 3) compare to using a range of different sizes (1-2, 1-3, or 2-3)?\n",
    "\n",
    "[Although this is not the case for n-gram (1,1), the general pattern is that when you use a range of n-gram sizes, you get a better validation accuracy. Additionally, Wwen using only one type of n-gram (1,1) vs (2,2), vs (3,3), the accuracy decreases as the length increases."
   ]
  },
  {
   "cell_type": "markdown",
   "metadata": {},
   "source": [
    "### Feature selection\n",
    "\n",
    "Selecting a subset of features can improve classifier efficiency and potentially guard against overfitting. However, it can also hurt performance if too many features are removed. We will now experiment with different levels of feature selection.\n",
    "\n",
    "We will use the [`SelectPercentile`](http://scikit-learn.org/stable/modules/generated/sklearn.feature_selection.SelectPercentile.html) class, which can be used to select features that are within a specified percentile according to a scoring function that ranks the quality of the features. The code below instantiates a `SelectPercentile` object using the [`chi2`](http://scikit-learn.org/stable/modules/generated/sklearn.feature_selection.chi2.html) function, which performs a chi-squared test for measuring the significance of features. The `percentile` argument specifies the percentile of features that are selected after ranking by their chi-squared statistic. If `percentile=1`, only the top 1% of features will be selected. If `percentile=100`, all features will be selected.\n",
    "\n",
    "Once you've created a `SelectPercentile` object, its `fit` function can be called to calculate the significance of the features, and its `transform` function will modify the feature vectors to choose only the selected features. The `fit_transform` function performs both of these steps, which is what you see below.\n",
    "\n",
    "Experiment with different feature selection percentiles to see how the accuracy is affected by different settings.\n",
    "\n",
    "#### Deliverable 1.3: Calculate the cross-validation accuracy at different values of `percentile`, when the percentile is each of $[1, 2, 5, 10, 20, 30, 40, 50, 60, 70, 80, 90, 100]$. Create a plot where the percentile is on the x-axis and the accuracy is on the y-axis. Do this for three different settings with the base classifer defined above, using n-gram ranges of (1,1), (2,2), and (1,3). You can either create three different figures for these three n-gram ranges, or create one figure with three lines (clearly labeled).\n",
    "\n",
    "[I created one plot with all three lines labeled.]\n",
    "\n",
    "\n"
   ]
  },
  {
   "cell_type": "code",
   "execution_count": 25,
   "metadata": {},
   "outputs": [],
   "source": [
    "from sklearn.feature_selection import SelectPercentile, chi2\n",
    "\n",
    "# example: feature selection at the 60th percentile.\n",
    "# Note the renaming of the feature vectors to X_train_selected\n",
    "\n",
    "selection = SelectPercentile(percentile=60, score_func=chi2)\n",
    "X_train_selected = selection.fit_transform(X_train, Y_train)\n"
   ]
  },
  {
   "cell_type": "code",
   "execution_count": 29,
   "metadata": {},
   "outputs": [
    {
     "name": "stdout",
     "output_type": "stream",
     "text": [
      "[0.7370286953620288, 0.7449305365972032, 0.7629030545697212, 0.7673961840628508, 0.7651477234810568, 0.764014014014014, 0.7595284678618013, 0.75503913003913, 0.7516683350016683, 0.752802044468711, 0.7516759183425851, 0.7527982527982529, 0.753913003913004]\n",
      "[0.7617655534322202, 0.7617617617617617, 0.7471714138380805, 0.7404336154336154, 0.7527906694573362, 0.7179869263202597, 0.7067408317408317, 0.7022514939181606, 0.7033738283738283, 0.7067408317408317, 0.7089855006521674, 0.7146009646009647, 0.6955023205023205]\n",
      "[0.7730154396821064, 0.7819979069979069, 0.7775085691752358, 0.7707821457821457, 0.7628992628992629, 0.7460414960414962, 0.739303697637031, 0.7314435647768981, 0.7303136469803135, 0.7426744926744927, 0.7437930354597021, 0.7449229532562865, 0.730317438650772]\n"
     ]
    }
   ],
   "source": [
    "# code for 1.3 here\n",
    "\n",
    "percentile_values = [1,2,5,10,20,30,40,50,60,70,80,90,100]\n",
    "accuracy_vals_one = []\n",
    "for i in percentile_values:\n",
    "    X_train = vect.fit_transform(features(d, ngram_range=(1,1)) for d in text_train)\n",
    "    gs_classifier = GridSearchCV(base_classifier, params, cv=3)\n",
    "    \n",
    "    selection = SelectPercentile(percentile=i, score_func=chi2)\n",
    "    X_train_selected = selection.fit_transform(X_train, Y_train)\n",
    "    params = [{'C': [0.01, 0.1, 1.0]}]\n",
    "\n",
    "    gs_classifier = GridSearchCV(base_classifier, params, cv=3)\n",
    "    gs_classifier.fit(X_train_selected, Y_train)\n",
    "    accuracy_vals_one.append(gs_classifier.best_score_)\n",
    "print(accuracy_vals_one)\n",
    " \n",
    "accuracy_vals_two = []\n",
    "for i in percentile_values:\n",
    "    X_train = vect.fit_transform(features(d, ngram_range=(2,2)) for d in text_train)\n",
    "    gs_classifier = GridSearchCV(base_classifier, params, cv=3)\n",
    "    \n",
    "    selection = SelectPercentile(percentile=i, score_func=chi2)\n",
    "    X_train_selected = selection.fit_transform(X_train, Y_train)\n",
    "    params = [{'C': [0.01, 0.1, 1.0]}]\n",
    "\n",
    "    gs_classifier = GridSearchCV(base_classifier, params, cv=3)\n",
    "    gs_classifier.fit(X_train_selected, Y_train)\n",
    "    accuracy_vals_two.append(gs_classifier.best_score_)\n",
    "print(accuracy_vals_two)\n",
    " \n",
    "accuracy_vals_three = []\n",
    "for i in percentile_values:\n",
    "    X_train = vect.fit_transform(features(d, ngram_range=(1,3)) for d in text_train)\n",
    "    gs_classifier = GridSearchCV(base_classifier, params, cv=3)\n",
    "    \n",
    "    selection = SelectPercentile(percentile=i, score_func=chi2)\n",
    "    X_train_selected = selection.fit_transform(X_train, Y_train)\n",
    "    params = [{'C': [0.01, 0.1, 1.0]}]\n",
    "\n",
    "    gs_classifier = GridSearchCV(base_classifier, params, cv=3)\n",
    "    gs_classifier.fit(X_train_selected, Y_train)\n",
    "    accuracy_vals_three.append(gs_classifier.best_score_)\n",
    "print(accuracy_vals_three)"
   ]
  },
  {
   "cell_type": "code",
   "execution_count": 30,
   "metadata": {},
   "outputs": [
    {
     "data": {
      "text/plain": [
       "<matplotlib.legend.Legend at 0x15eae1e80>"
      ]
     },
     "execution_count": 30,
     "metadata": {},
     "output_type": "execute_result"
    },
    {
     "data": {
      "image/png": "[encoded data removed]",
      "text/plain": [
       "<Figure size 640x480 with 1 Axes>"
      ]
     },
     "metadata": {},
     "output_type": "display_data"
    }
   ],
   "source": [
    "import matplotlib.pyplot as plt\n",
    "\n",
    "plt.plot(percentile_values, accuracy_vals_one, label=\"(1,1)\", linewidth=3)\n",
    "plt.plot(percentile_values, accuracy_vals_two, label=\"(2,2)\", linewidth=3)\n",
    "plt.plot(percentile_values, accuracy_vals_three, label=\"(1,3)\", linewidth=3)\n",
    "plt.xlabel(\"Percentile\")\n",
    "plt.ylabel(\"Accuracy\")\n",
    "plt.legend()"
   ]
  },
  {
   "cell_type": "markdown",
   "metadata": {},
   "source": [
    "#### Deliverable 1.4: Describe what you observe in the 1.3 plots. Comment on any general patterns that you see across all of the plots, and explain why you think this behavior happens. Additionally, comment on any differences in the patterns between the three different classifiers. If there are any differences, what do you think explains the differences?\n",
    "\n",
    "[Generally, the n-gram lengths perform worse with increasing precentile of features. This is likely because the quality of the features included isnt as good. Thus, with only the highest quality features included, they generally perform better. This pattern looks a little different with (1,1) ngram. In this case the most selective percentile doesnt perform as well. This is likely because you are only working with words of length one. Thus, by only using a select number of features, this may be too limited information to perfrom optimally.]"
   ]
  },
  {
   "cell_type": "markdown",
   "metadata": {},
   "source": [
    "## Problem 2: Feature Engineering \n",
    "\n",
    "### Problem 2 of the Coding Part is significantly more demanding this time. However, it is only worth 2 points out of the total 26 points. You might consider the return of the time and effort you need to put in when you work on the coding part.\n",
    "\n",
    "### Choosing final hyperparameters\n",
    "\n",
    "Above, you experimented with various ranges of n-grams and feature selection percentiles. For the remainder of this assignment, you should stick with one setting of n-gram range and percentile.\n",
    "\n",
    "In the code below, the variables `ngr` and `per` define the n-gram range and percentile that you will use in the remaining experience. Currently, `ngr` is set to $(1,3)$ and `per` is set to $100$, but you should modify these values as needed and set them to whatever values gave you the best validation accuracy in your experiments in Problem 1."
   ]
  },
  {
   "cell_type": "code",
   "execution_count": 31,
   "metadata": {},
   "outputs": [],
   "source": [
    "ngr = (1,3)\n",
    "per = 2"
   ]
  },
  {
   "cell_type": "markdown",
   "metadata": {},
   "source": [
    "Since we are no longer tuning the hyperparameters, now is a reasonable time to also look at the test data. The code below calculates both the cross-validation as well as the accuracy on the test data using the best classifier from cross-validation, using the randomly chosen n-gram and percentile settings. \n",
    "\n",
    "You don't need to do anything in this section except understand and run the code in the cell below."
   ]
  },
  {
   "cell_type": "code",
   "execution_count": 32,
   "metadata": {},
   "outputs": [
    {
     "name": "stdout",
     "output_type": "stream",
     "text": [
      "Validation accuracy: 0.797753\n",
      "Test accuracy: 0.718182\n"
     ]
    }
   ],
   "source": [
    "X_train_final = vect.fit_transform(features(d, ngram_range=ngr) for d in text_train)\n",
    "X_test_final = vect.transform(features(d, ngram_range=ngr) for d in text_test)\n",
    "\n",
    "selection = SelectPercentile(percentile=per, score_func=chi2)\n",
    "X_train_final = selection.fit_transform(X_train_final, Y_train)\n",
    "X_test_final = selection.transform(X_test_final)\n",
    "\n",
    "gs_classifier = GridSearchCV(base_classifier, params, cv=5)\n",
    "gs_classifier.fit(X_train_final, Y_train)\n",
    "\n",
    "print(\"Validation accuracy: %0.6f\" % gs_classifier.best_score_)\n",
    "print(\"Test accuracy: %0.6f\" % accuracy_score(Y_test, gs_classifier.predict(X_test_final)))"
   ]
  },
  {
   "cell_type": "markdown",
   "metadata": {},
   "source": [
    "### Creating new features\n",
    "\n",
    "How do you add new features? You will need to create a new feature extraction function. Start by copying the definition of the `features` function at the start of this notebook and renaming it. Keep everything from the original function, but write additional code that appends your new features to the `features_in_text` array. You can create any additional helper functions as needed.\n",
    "\n",
    "The description of each feature type is below. Be sure to read the instructions carefully.\n",
    "\n",
    "- **Skip-grams:** A type of feature that is related to an n-gram is a _skip-gram_. Skip-grams can be defined in different ways, but the definition you will use here is a sequence of word tokens where only the first and last word are specified, while any word token in between is replaced with a general placeholder symbol (usually an asterisk, $*$). For example, the string \"the water is cold\" contains two length-3 skip-grams (\"`the * is`\" and \"`water * cold`\") and one length-4 skip-gram (\"`the * * cold`\"). The purpose of skip-grams is to capture longer sequences while being general enough to match more instances than with longer n-grams. To implement a skip-gram of length $k$, you can simply extract $k$-grams (i.e., n-grams of length $k$) and replace the inner tokens with asterisks. Like with the n-gram features, the values of the skip-gram features should be their counts. For this assignment, you should extract skip-grams of both length 3 and length 4.\n",
    "- **Word pairs:** It may be helpful to encode combinations of words that appear in a document, regardless of whether they appear in a particular sequence. One type of feature is to indicate if two words are both present in a text (like doing an *AND* operation on the presense of the two unigrams). For example, the string \"the water is cold\" contains 6 distinct word pairs (\"`(the,water)`\", \"`(the,is)`\", \"`(the,cold)`\", \"`(water,is)`\", \"`(water,cold)`\", \"`(is,cold)`\"). For full credit, your code should not include pairs that are permutations of each other $-$ for example, include `(water,cold)` or `(cold,water)` but not both. An easy way to do this is to sort the words in alphabetical order within pairs. For this feature, simply use the value $1$ if the pair is present in a text and $0$ otherwise (that is, binary values rather than using full counts).\n",
    "- **Sentiment dictionary:** One might also take advantage of external resources others have created for sentiment analysis. For this type of feature, we will use a sentiment *lexicon* created by researcher [Bing Liu](https://www.cs.uic.edu/~liub/FBS/sentiment-analysis.html), which is a list of words that have a tendency to show positive sentiment and a list of words with negative sentiment. The lexicon contains thousands of words; the words are already loaded for you in the code cell below. For this feature, you should extract n-grams (using whatever n-gram range was randomly selected above) where any word that appears in the positive dictionary is replaced with the capitalized string \"`POS`\" and any word in the negative dictionary is replaced with the string \"`NEG`\". For full credit, you should extract all original n-grams (before doing dictionary replacement) as well as n-grams with the replaced sentiment strings, but without double-counting the original n-grams. For example, the word \"cold\" is in the negative dictionary, so the string \"the water is cold\" should have five unigrams all with value $1$ (\"`the`\", \"`water`\", \"`is`\", \"`cold`\", \"`NEG`\"), and four bigrams with value with $1$ (\"`the water`\", \"`water is`\", \"`is cold`\", \"`is NEG`\").\n",
    "\n",
    "After writing your new function, you should test the function on a few example strings to see if it is extracting features in the way you expect."
   ]
  },
  {
   "cell_type": "markdown",
   "metadata": {},
   "source": [
    "#### Deliverable 2.1: Say which feature(s) you were able to implemented.  If you were unable to fully implement them all, describe what you attempted to do, and any challenges you ran into. \n",
    "\n",
    "[I was able to implement all 3: skip-grams, word pairs, and sentiment dictionary. No challenges encountered.]\n",
    "\n",
    "#### Deliverable 2.2: Calculate the cross-validation accuracy and test accuracy using your new feature set. Compare the new accuracies with the accuracies in the code cell above, before you changed the features. Your new features may help, hurt, or make no change to the accuracy. In any case, give a possible explanation for why it affected (or didn't affect) the accuracy.\n",
    "\n",
    "[All my code is below. Using skip grams improved the accuracy with ngram (1,3), likely because you have an increased number of occurances now that have the same semantic meaning (pos, neg, neut). You have an increased number of occurances because you need fewer words to match because the words in the middle are replaced with an \"*\". However, the sentiment of the word liekly stays the same. For example if you were to have \"The room was cold\" and \"The shower was cold\", both of these are negative. With the previously used feature these would be classified as separate phrases but now with the skip grams, they would be classified as the same phrase. It seems that using word pairs slightly worsens performance. Using the sentiment dictionary slightly increases accuracy. This makes sense because you are using a sentiment bank to help find words.]"
   ]
  },
  {
   "cell_type": "code",
   "execution_count": 125,
   "metadata": {},
   "outputs": [],
   "source": [
    "## If you are using the third feature type (sentiment dictionary),\n",
    "## run this block of code.\n",
    "\n",
    "# (original source: http://www.cs.uic.edu/~liub/FBS/opinion-lexicon-English.rar )\n",
    "\n",
    "sentiment_df = pd.read_csv('sentiment-words.csv', header=None, encoding='ISO-8859-1')\n",
    "\n",
    "# The two variables, positive_words and negative_words, are sets that contain the positive/negative words\n",
    "\n",
    "positive_words = sentiment_df.loc[sentiment_df[0] == 'positive']\n",
    "positive_words = set(positive_words.iloc[0:, 1].values)\n",
    "\n",
    "negative_words = sentiment_df.loc[sentiment_df[0] == 'negative']\n",
    "negative_words = set(negative_words.iloc[0:, 1].values)"
   ]
  },
  {
   "cell_type": "code",
   "execution_count": 144,
   "metadata": {},
   "outputs": [
    {
     "name": "stdout",
     "output_type": "stream",
     "text": [
      "{'comely', 'harmoniously', 'manageable', 'rejoicingly', 'exalted', 'cheery', 'fascinating', 'fervently', 'wholeheartedly', 'sweetly', 'guarantee', 'endorsing', 'electrify', 'pleasing', 'master', 'improve', 'effusively', 'heaven', 'tremendously', 'winnable', 'illuminate', 'admiringly', 'accommodative', 'intriguingly', 'stabilize', 'exuberantly', 'energy-saving', 'cleared', 'quieter', 'optimism', 'relaxed', 'clever', 'intriguing', 'mercy', 'bullish', 'hopeful', 'celebrate', 'luck', 'piety', 'realizable', 'nicest', 'affability', 'lucidly', 'efficient', 'enthrall', 'spacious', 'well-intentioned', 'stainless', 'amazed', 'loving', 'lead', 'hail', 'valor', 'dote', 'luckiness', 'successful', 'jollify', 'hooray', 'idolized', 'rapport', 'easygoing', 'keen', 'stirringly', 'supremely', 'reclaim', 'excellency', 'humble', 'revive', 'marveled', 'wonder', 'humour', 'gleefully', 'satisfies', 'flawless', 'adroit', 'prudence', 'navigable', 'foresight', 'well-connected', 'breeze', 'heavenly', 'excels', 'risk-free', 'glimmer', 'effusiveness', 'sturdy', 'maturity', 'rejuvenate', 'spotless', 'regal', 'amazement', 'enthusiast', 'aspirations', 'facilitate', 'productively', 'progressive', 'superb', 'fertile', 'compliant', 'breathlessness', 'luckiest', 'rightful', 'lawfully', 'principled', 'glimmering', 'accomplish', 'fast-growing', 'vibrant', 'congratulatory', 'tidy', 'insightful', 'accessable', 'exonerate', 'fashionable', 'humourous', 'instantly', 'overtake', 'acumen', 'flourishing', 'industrious', 'well-being', 'rock-star', 'suffices', 'geeky', 'dignity', 'ardent', 'individualized', 'endear', 'exultation', 'steadfastness', 'edify', 'gladness', 'felicitous', 'majesty', 'ebullience', 'paramount', 'remarkable', 'favorite', 'civilize', 'spellbinding', 'clear', 'tough', 'agreeableness', 'lifesaver', 'prudent', 'advanced', 'heartfelt', 'ideally', 'alluringly', 'patriotic', 'satisfying', 'jaw-droping', 'hard-working', 'saint', 'glamorous', 'steadfast', 'win', 'effectual', 'hallmark', 'painlessly', 'breathtaking', 'endorsement', 'resound', 'timely', 'traction', 'charisma', 'advocated', 'complimentary', 'smiling', 'awesomely', 'dependable', 'safe', 'awarded', 'enthusiastic', 'flutter', 'masterpieces', 'useful', 'adaptive', 'accomplishments', 'avid', 'suavely', 'bliss', 'trustingly', 'excelled', 'noteworthy', 'gush', 'reliably', 'felicitate', 'triumphal', 'purposeful', 'beckons', 'evocative', 'capability', 'fun', 'high-quality', 'miraculously', 'convienient', 'leverage', 'honoring', 'devout', 'divine', 'virtue', 'precious', 'low-priced', 'gallantly', 'acclaimed', 'vivacious', 'inventive', 'ambitiously', 'celebration', 'embolden', 'breathtakingly', 'blessing', 'self-respect', 'smoothly', 'fair', 'courteous', 'skilled', 'gusto', 'ftw', 'luster', 'beautiful', 'vigilance', 'fervent', 'unquestionably', 'well-wishers', 'incredible', 'beautifully', 'pampers', 'darling', 'venerate', 'appreciates', 'resilient', 'frolic', 'delicious', 'sagacity', 'accomodative', 'brilliantly', 'shine', 'positive', 'overtakes', 'sensational', 'cuteness', 'geekier', 'outsmart', 'restructured', 'world-famous', 'god-send', 'inviolable', 'miracle', 'respite', 'helping', 'healthy', 'lovely', 'attractively', 'elan', 'endorses', 'harmonious', 'empowerment', 'upliftment', 'sensibly', 'authoritative', 'exhilarating', 'bravery', 'spellbindingly', 'rightly', 'lucrative', 'stylized', 'pamper', 'amazes', 'rapid', 'affection', 'captivating', 'soft', 'hale', 'advantageous', 'excites', 'heal', 'sufficiently', 'undamaged', 'cohere', 'entranced', 'faith', 'liberty', 'mesmerizing', 'recommendations', 'reformed', 'astounded', 'leading', 'idol', 'futurestic', 'adoring', 'properly', 'thoughtful', 'retractable', 'exult', 'surreal', 'confidence', 'passionate', 'smarter', 'lucid', 'privilege', 'poeticize', 'prodigiously', 'lively', 'trustworthiness', 'outdone', 'goodness', 'brand-new', 'rich', 'credible', 'motivated', 'subsidized', 'hospitable', 'trivially', 'stylish', 'titillate', 'worth', 'prestigious', 'profound', 'defeats', 'staunch', 'attraction', 'entrancing', 'hero', 'adventuresome', 'easiest', 'greatest', 'invulnerable', 'well', 'benevolence', 'masters', 'glowingly', 'exalting', 'luxuriously', 'encouragingly', 'impeccable', 'truthfully', 'counter-attack', 'celebrated', 'hardier', 'easy-to-use', 'influential', 'convenience', 'cleanliness', 'invigorating', 'righteously', 'rapt', 'momentous', 'unequivocally', 'yay', 'refund', 'relent', 'heroic', 'well-behaved', 'harmless', 'simplifies', 'fresh', 'liked', 'supported', 'savings', 'well-positioned', 'righteous', 'favor', 'rightness', 'promises', 'intuitive', 'unbiased', 'gratefully', 'brighter', 'whooa', 'champion', 'propitiously', 'tranquil', 'zenith', 'affectionate', 'examplary', 'simpler', 'proper', 'buoyant', 'firmer', 'applaud', 'coherence', 'excitement', 'dependably', 'preeminent', 'remarkably', 'conciliatory', 'sporty', 'crisp', 'beckon', 'conveniently', 'dominated', 'eased', 'gratitude', 'altruistic', 'mighty', 'pamperedness', 'simplified', 'abounds', 'gainful', 'upliftingly', 'decent', 'congenial', 'groundbreaking', 'wondrous', 'bargain', 'romantic', 'ample', 'elegantly', 'merciful', 'fanfare', 'roomy', 'equitable', 'consummate', 'victory', 'sophisticated', 'beauty', 'admirable', 'appreciated', 'conscientious', 'adulation', 'loveliness', 'terrifically', 'congratulation', 'euphoric', 'picturesque', 'chic', 'illumine', 'adoringly', 'chivalry', 'laudable', 'soothingly', 'titillatingly', 'brainy', 'sagely', 'rectifying', 'tickle', 'well-established', 'rejoice', 'benevolent', 'polite', 'eager', 'dead-cheap', 'affirm', 'elate', 'peerless', 'splendid', 'readily', 'affably', 'attractive', 'fascination', 'unbeatable', 'preferring', 'uncomplicated', 'fiery', 'sumptuousness', 'supple', 'compassionate', 'excellant', 'keenly', 'dignify', 'reasonable', 'splendor', 'neatly', 'exhilarate', 'infallible', 'eyecatch', 'humane', 'luxuriant', 'supreme', 'outperforming', 'enjoys', 'brisk', 'extoll', 'awed', 'soundness', 'miracles', 'remission', 'effectively', 'improvements', 'amusingly', 'mercifully', 'winner', 'precisely', 'aspiration', 'blockbuster', 'regard', 'honored', 'ideal', 'willingly', 'bonuses', 'modest', 'authentic', 'smooth', 'charmingly', 'unity', 'maturely', 'protection', 'ergonomical', 'valiantly', 'flexible', 'renowned', 'cure-all', 'exhilaration', 'jovial', 'wowing', 'profuse', 'whoa', 'witty', 'recommendation', 'veritable', 'morality', 'assurances', 'avidly', 'reasoned', 'standout', 'eminent', 'nicer', 'enchant', 'astounding', 'wonders', 'distinctive', 'easy', 'merry', 'catchy', 'heartening', 'loyal', 'beauteous', 'astonishing', 'ease', 'satisfactorily', 'pleasurably', 'cost-saving', 'revolutionize', 'resourcefulness', 'impressiveness', 'popular', 'unwavering', 'tempt', 'dazzled', 'undisputable', 'steadfastly', 'calming', 'praising', 'fearless', 'amity', 'sparkling', 'sweetheart', 'inestimably', 'zeal', 'self-sufficient', 'amply', 'amazing', 'sweeten', 'competitive', 'enraptured', 'inspire', 'redeem', 'levity', 'unfazed', 'refunded', 'engaging', 'angelic', 'fortune', 'tantalize', 'handsome', 'topnotch', 'earnestness', 'fulfillment', 'modesty', 'peacefully', 'first-rate', 'prosperity', 'nifty', 'cost-effective', 'readable', 'agility', 'fond', 'heroically', 'strong', 'cheer', 'subsidizing', 'matchless', 'gooood', 'remunerate', 'upbeat', 'pepping', 'merrily', 'grandeur', 'smoothes', 'lavish', 'god-given', 'raptureously', 'famous', 'precise', 'reconcile', 'recommended', 'magical', 'sexy', 'agreeably', 'beautify', 'like', 'paradise', 'promise', 'admiring', 'speedily', 'civility', 'excelent', 'benefit', 'elatedly', 'nurturing', 'benefits', 'enthuse', 'appreciative', 'courtly', 'fancy', 'courageous', 'exellent', 'refined', 'grin', 'educated', 'exalt', 'brighten', 'cashback', 'unfettered', 'fastest-growing', 'revolutionized', 'captivate', 'faster', 'stylishly', 'positively', 'intimate', 'calm', 'stimulates', 'energy-efficient', 'upgradeable', 'noiseless', 'perfect', 'contrasty', 'handy', 'praiseworthy', 'succes', 'goodly', 'joyfully', 'fast-paced', 'kid-friendly', 'responsive', 'eagerly', 'dashing', 'cleanest', 'enticingly', 'mind-blowing', 'priceless', 'awe', 'gratification', 'renown', 'approval', 'tender', 'multi-purpose', 'formidable', 'gratifying', 'rewardingly', 'won', 'wholesome', 'zest', 'conciliate', 'achievible', 'heroize', 'heartwarming', 'fairly', 'simplifying', 'spellbind', 'proficient', 'obtainable', 'meticulous', 'accomplished', 'excellence', 'solicitous', 'homage', 'dazzling', 'capable', 'exquisitely', 'superior', 'large-capacity', 'balanced', 'winners', 'happier', 'ambitious', 'toll-free', 'invincibility', 'personages', 'rockstar', 'generous', 'gorgeously', 'afford', 'agreeable', 'appeal', 'substantive', 'envious', 'amicable', 'favored', 'relish', 'enviously', 'credence', 'nobly', 'amenity', 'wows', 'quicker', 'destiny', 'adorable', 'succeed', 'rectification', 'clearer', 'beloved', 'humor', 'cleverly', 'glitter', 'thriving', 'inpressed', 'replaceable', 'fascinate', 'resounding', 'astonish', 'personalized', 'youthful', 'complementary', 'knowledgeable', 'stimulate', 'impressive', 'idyllic', 'swankier', 'luxurious', 'non-violence', 'easing', 'effectiveness', 'monumentally', 'adulatory', 'sweetness', 'aspire', 'thinner', 'blithe', 'fortuitous', 'delicacy', 'productive', 'affinity', 'upgraded', 'ecenomical', 'ingeniously', 'gain', 'sharp', 'cushy', 'hallmarks', 'fastest', 'saver', 'imaginative', 'well-made', 'law-abiding', 'deginified', 'improved', 'handier', 'meaningful', 'reputation', 'unlimited', 'prodigy', 'meticulously', 'diligently', 'champ', 'lavishly', 'right', 'regally', 'abundance', 'agile', 'brainiest', 'sturdier', 'engrossing', 'enjoyably', 'supporting', 'glorious', 'defeating', 'deserving', 'suffice', 'whoooa', 'cherished', 'endorsed', 'affluent', 'distinction', 'sleek', 'slick', 'slammin', 'laud', 'intricate', 'swift', 'commodious', 'thrive', 'cheapest', 'mesmerizes', 'pure', 'outperform', 'radiance', 'dauntless', 'profoundly', 'transparent', 'playful', 'abundant', 'easiness', 'low-price', 'diligence', 'wisely', 'outshone', 'pluses', 'resplendent', 'altruistically', 'roomier', 'infallibly', 'adore', 'tolerable', 'cheerful', 'trump', 'adroitly', 'mesmerized', 'commendably', 'suitable', 'satisfied', 'preferes', 'stupendous', 'reaffirm', 'serenity', 'proficiently', 'free', 'righten', 'wieldy', 'fervor', 'elevate', 'excitedness', 'a+', 'overtaken', 'prosper', 'spiritual', 'sufficient', 'danken', 'lovable', 'verifiable', 'soothe', 'enticing', 'majestic', 'desiring', 'honesty', 'visionary', 'permissible', 'pinnacle', 'grace', 'enthusiasm', 'deservedly', 'obsession', 'acclaim', 'succeeded', 'all-around', 'convincing', 'luxuriate', 'admirably', 'recommend', 'revelation', 'beneficent', 'patiently', 'ready', 'delight', 'cooperatively', 'talents', 'enlighten', 'magnificent', 'neat', 'exaltingly', 'sane', 'worth-while', 'gainfully', 'tenacity', 'successes', 'guidance', 'flexibility', 'fragrant', 'revolutionizes', 'enhanced', 'magic', 'cherub', 'improving', 'everlasting', 'honor', 'redemption', 'kindly', 'revere', 'wisdom', 'enjoying', 'reconciliation', 'fine-looking', 'sincerity', 'congratulations', 'propitious', 'supporter', 'peace', 'revival', 'ardor', 'chaste', 'inviolate', 'bolster', 'unabashed', 'proves', 'angel', 'colorful', 'extraordinarily', 'warmly', 'wonderous', 'immaculate', 'preferable', 'splendidly', 'liking', 'statuesque', 'comforting', 'strikingly', 'peaceable', 'virtuous', 'felicity', 'marvels', 'better-known', 'fascinatingly', 'idolize', 'polished', 'appropriate', 'swanky', 'pleasure', 'brightest', 'stable', 'ilu', 'continuity', 'miraculousness', 'humorously', 'prefers', 'reasonably', 'ecstasies', 'joyful', 'woo', 'magnificently', 'favorable', 'swiftness', 'reward', 'articulate', 'redeeming', 'restful', 'rapture', 'dexterously', 'renaissance', 'compliment', 'ebulliently', 'eulogize', 'glad', 'stunningly', 'gallant', 'robust', 'top', 'unparalleled', 'exhilaratingly', 'gaily', 'wonderously', 'meritorious', 'invaluable', 'endorse', 'recovery', 'bless', 'unaffected', 'rejuvenating', 'stunned', 'enjoyment', 'admire', 'optimal', 'shiny', 'smartly', 'flattering', 'thrills', 'wonderful', 'outstrip', 'lush', 'flatter', 'savvy', 'entice', 'fidelity', 'merit', 'sumptuous', 'proactive', 'encouragement', 'believable', 'interests', 'impartial', 'outwit', 'divinely', 'skillfully', 'inspiring', 'warm', 'lucky', 'surmount', 'impress', 'salutary', 'mature', 'unreal', 'halcyon', 'lean', 'upgradable', 'selective', 'understandable', 'hallowed', 'happiness', 'glee', 'thrillingly', 'top-notch', 'backbone', 'willingness', 'dreamland', 'pleasingly', 'panoramic', 'serene', 'enhancement', 'jaw-dropping', 'respectfully', 'eagerness', 'inspirational', 'lawful', 'treasure', 'passionately', 'gifted', 'clears', 'noble', 'reforms', 'bloom', 'accessible', 'rapturous', 'long-lasting', 'accolades', 'impressed', 'cozy', 'enhance', 'sweeping', 'attune', 'bright', 'obsessions', 'sweet', 'stronger', 'glow', 'reassurance', 'evaluative', 'well-backlit', 'purify', 'striving', 'encouraging', 'humility', 'best-known', 'prominence', 'premier', 'comfortable', 'illustrious', 'enhances', 'lustrous', 'delectable', 'luxury', 'rectify', 'supurb', 'undaunted', 'unselfish', 'suave', 'sociable', 'affluence', 'enthusiastically', 'enviably', 'appreciate', 'trusted', 'optimistic', 'thrilling', 'courage', 'survival', 'pre-eminent', 'proven', 'first-in-class', 'available', 'openly', 'radiant', 'incredibly', 'palatial', 'charismatic', 'graciousness', 'vibrantly', 'savior', 'richly', 'decisiveness', 'perfection', 'amiabily', 'saintliness', 'innocuous', 'lighter', 'considerate', 'freedom', 'well-mannered', 'evenly', 'energize', 'covenant', 'satisified', 'thrift', 'affordably', 'secure', 'genius', 'eye-catch', 'shimmering', 'cool', 'posh', 'skill', 'temptingly', 'nourishing', 'marvelously', 'jubilantly', 'strongest', 'quaint', 'illuminating', 'promised', 'steady', 'fine', 'overture', 'thrifty', 'resolute', 'fast', 'honorable', 'apotheosis', 'coherent', 'superbly', 'complements', 'dumbfounded', 'delighted', 'powerfully', 'providence', 'versatile', 'thumbs-up', 'seamless', 'glorify', 'clear-cut', 'fantastic', 'restored', 'portable', 'beckoning', 'pepped', 'talented', 'good', 'enough', 'well-rounded', 'brilliant', 'enrapture', 'freed', 'effortlessly', 'marvelousness', 'miraculous', 'reassure', 'revitalize', 'joy', 'reverence', 'reliable', 'erudite', 'stupendously', 'charming', 'eventful', 'well-known', 'refresh', 'soulful', 'tenacious', 'goood', 'solid', 'breakthrough', 'relief', 'entertain', 'enchanting', 'award', 'laudably', 'desirable', 'decisive', 'zippy', 'tempting', 'diplomatic', 'perfectly', 'loves', 'poised', 'clearly', 'instrumental', 'commendable', 'wellbeing', 'benifits', 'advocate', 'integral', 'stability', 'amicability', 'enliven', 'sincere', 'celebratory', 'irreplaceable', 'cashbacks', 'gaiety', 'masterful', 'snazzy', 'respectable', 'impeccably', 'foremost', 'unmatched', 'gorgeous', 'earnestly', 'silent', 'truthfulness', 'proud', 'warmer', 'expertly', 'responsibly', 'accurate', 'glisten', 'likable', 'gem', 'usable', 'gains', 'happily', 'pleasant', 'accurately', 'sustainable', 'receptive', 'effusive', 'nourishment', 'triumphantly', 'immaculately', 'gold', 'eminence', 'glitz', 'sublime', 'adequate', 'comfy', 'adaptable', 'blissful', 'deft', 'exceeds', 'entertaining', 'impassioned', 'earnest', 'subsidizes', 'exceptionally', 'best-selling', 'exuberant', 'marvelled', 'renewed', 'fantastically', 'beckoned', 'integrated', 'love', 'genial', 'peaceful', 'diversified', 'rejuvenated', 'well-balanced', 'benefactor', 'ingenuous', 'acclamation', 'smartest', 'enchanted', 'steadiness', 'beneficial', 'kudos', 'patience', 'thrilled', 'extol', 'warmth', 'exciting', 'issue-free', 'futuristic', 'audibly', 'exceeding', 'romantically', 'adjustable', 'boost', 'impresses', 'cajole', 'irresistibly', 'recomend', 'likes', 'irresistible', 'hands-down', 'defeat', 'victorious', 'significant', 'trophy', 'concise', 'worthwhile', 'commitment', 'carefree', 'generosity', 'unabashedly', 'effortless', 'vouch', 'unencumbered', 'calmness', 'clarity', 'tenaciously', 'privileged', 'well-educated', 'ecstasy', 'prosperous', 'glowing', 'sensitive', 'cure', 'ecstatic', 'user-replaceable', 'exemplary', 'plusses', 'irreproachable', 'awesome', 'solace', 'intelligent', 'punctual', 'magnanimous', 'blissfully', 'fabulously', 'attentive', 'fairness', 'enthralled', 'idealize', 'satisfy', 'proving', 'reverent', 'feat', 'tops', 'worthiness', 'achievement', 'pain-free', 'peacekeepers', 'convient', 'praise', 'judicious', 'inestimable', 'exultant', 'fabulous', 'astonishment', 'extraordinary', 'graceful', 'overtaking', 'approve', 'outperformed', 'gleeful', 'intelligible', 'jubilant', 'stunning', 'resourceful', 'cornerstone', 'brilliances', 'fortuitously', 'pep', 'opulent', 'enticed', 'enjoy', 'safely', 'sustainability', 'trouble-free', 'versatility', 'fancinating', 'prodigious', 'pleasantly', 'well-bred', 'affectation', 'auspicious', 'orderly', 'unquestionable', 'reputable', 'dexterous', 'superiority', 'complemented', 'prefer', 'impressively', 'marvelous', 'brilliance', 'convience', 'enchantingly', 'err-free', 'originality', 'dynamic', 'revel', 'valiant', 'delightful', 'indulgent', 'spectacularly', 'foolproof', 'toughest', 'problem-solver', 'delicate', 'gaining', 'heartily', 'outstanding', 'survivor', 'inspiration', 'eloquently', 'overjoyed', 'patient', 'overtook', 'playfully', 'danke', 'solidarity', 'elation', 'recover', 'light-hearted', 'fancier', 'doubtless', 'illuminati', 'truthful', 'indulgence', 'happy', 'perseverance', 'gained', 'peach', 'euphoria', 'rock-stars', 'inexpensive', 'finely', 'beneficiary', 'better', 'enjoyable', 'saintly', 'ebullient', 'achievable', 'outshine', 'enrichment', 'believeable', 'jubiliant', 'staunchly', 'gladly', 'enthral', 'astoundingly', 'impartially', 'stellarly', 'stimulating', 'cleaner', 'shimmeringly', 'beautifullly', 'snappy', 'talent', 'chivalrous', 'fervid', 'nicely', 'dominate', 'dazzle', 'lover', 'worthy', 'powerful', 'elegant', 'thank', 'sumptuously', 'promising', 'brave', 'succeeds', 'agilely', 'excitedly', 'twinkly', 'exceed', 'enrapt', 'excellent', 'pros', 'refreshed', 'enlightenment', 'crisper', 'grateful', 'supports', 'surpass', 'galore', 'improves', 'innovative', 'fashionably', 'amenable', 'romanticize', 'works', 'winning', 'enrich', 'appealing', 'mesmerize', 'feature-rich', 'exuberance', 'self-satisfaction', 'gratifies', 'effective', 'preferably', 'unrestricted', 'advantage', 'brotherly', 'respectful', 'triumph', 'endearing', 'rejoicing', 'audible', 'effusion', 'keenness', 'uplift', 'faithfully', 'examplar', 'wise', 'encourage', 'aver', 'straightforward', 'nourish', 'hot', 'thoughtfulness', 'reaffirmation', 'elite', 'amuse', 'honest', 'fav', 'godsend', 'immense', 'loved', 'finer', 'smiles', 'prudently', 'spectacular', 'bonus', 'leads', 'exceedingly', 'assurance', 'delightfulness', 'protect', 'trustworthy', 'kindness', 'blameless', 'qualify', 'handily', 'pleased', 'cheaper', 'first-class', 'legendary', 'envy', 'refreshing', 'fluent', 'affordable', 'rosy', 'reachable', 'excellently', 'charm', 'gentlest', 'virtuously', 'elegance', 'enterprising', 'astonished', 'thumb-up', 'rapturously', 'harmony', 'grand', 'charitable', 'beneficially', 'flourish', 'richer', 'seasoned', 'gratified', 'gracefully', 'gentle', 'genuine', 'valuable', 'smitten', 'courageousness', 'energetic', 'politeness', 'stately', 'beutifully', 'boom', 'creative', 'exceptional', 'dignified', 'unassailable', 'gutsy', 'exaltedly', 'undisputed', 'humorous', 'speedy', 'raptureous', 'gladden', 'spellbound', 'supurbly', 'vivid', 'pride', 'achievements', 'flatteringly', 'pampered', 'sharpest', 'comfortably', 'gloriously', 'thrill', 'masterfully', 'fortunately', 'reverently', 'gratify', 'subsidize', 'bountiful', 'patriot', 'simplest', 'durable', 'pleases', 'prettily', 'memorable', 'graciously', 'cute', 'fortitude', 'exceled', 'freedoms', 'feisty', 'openness', 'contribution', 'ardently', 'classic', 'daring', 'phenomenally', 'deference', 'compassion', 'solicitously', 'plentiful', 'top-quality', 'daringly', 'positives', 'assuring', 'hearten', 'skillful', 'prominent', 'headway', 'trust', 'rightfully', 'efficiently', 'problem-free', 'compact', 'pamperedly', 'ethical', 'fave', 'soundly', 'invincible', 'eloquent', 'favorited', 'vouchsafe', 'compactly', 'empower', 'masterpiece', 'low-risk', 'fans', 'willing', 'wins', 'reform', 'tougher', 'merriness', 'helpful', 'striking', 'hardy', 'flawlessly', 'breakthroughs', 'guiltless', 'simplify', 'successfully', 'record-setting', 'neatest', 'congratulate', 'thankful', 'awesomeness', 'super', 'commend', 'glory', 'convincingly', 'led', 'enjoyed', 'spontaneous', 'rewarding', 'astound', 'trendy', 'progress', 'entrust', 'lovably', 'advocates', 'magnificence', 'peppy', 'phenomenal', 'scenic', 'sprightly', 'favour', 'healthful', 'friendly', 'excallent', 'instructive', 'confident', 'dummy-proof', 'salute', 'wow', 'rational', 'efficacious', 'contentment', 'low-cost', 'wowed', 'correct', 'promptly', 'triumphant', 'sensationally', 'indebted', 'unequivocal', 'impartiality', 'dominates', 'satisfactory', 'amazingly', 'dumbfounding', 'distinguished', 'jubilation', 'righteousness', 'economical', 'excited', 'qualified', 'trumpet', 'undisputably', 'securely', 'expansive', 'time-honored', 'hottest', 'steadiest', 'succeeding', 'uphold', 'helped', 'luminous', 'improvement', 'poise', 'festive', 'tenderly', 'richness', 'comprehensive', 'success', 'sharper', 'restructure', 'revolutionary', 'eases', 'trusty', 'work', 'amiable', 'imaculate', 'poetic', 'greatness', 'well-informed', 'adorer', 'prefered', 'supportive', 'decency', 'well-managed', 'protective', 'merriment', 'complement', 'justly', 'empathize', 'lyrical', 'staunchness', 'loyalty', 'exaltation', 'lionhearted', 'feasible', 'intelligence', 'razor-sharp', 'booming', 'self-sufficiency', 'dextrous', 'ingenuity', 'oasis', 'pretty', 'adulate', 'freshest', 'quiet', 'softer', 'upheld', 'sensible', 'variety', 'faultless', 'outperforms', 'advantageously', 'hotcake', 'well-regarded', 'bravo', 'famed', 'support', 'self-determination', 'marvellous', 'desirous', 'frugal', 'straighten', 'adored', 'jubilate', 'insightfully', 'counter-attacks', 'fame', 'accolade', 'dead-on', 'maneuverable', 'fruitful', 'assuredly', 'smart', 'ennoble', 'elated', 'fervidly', 'admiration', 'excel', 'painless', 'terrific', 'interesting', 'state-of-the-art', 'unconditional', 'respect', 'ingenuously', 'luckier', 'prestige', 'infallibility', 'smile', 'lower-priced', 'hotcakes', 'plush', 'delightfully', 'consistent', 'warmhearted', 'afordable', 'invigorate', 'consistently', 'bonny', 'prowess', 'smilingly', 'friendliness', 'spirited', 'streamlined', 'best-performing', 'unforgettable', 'tantalizing', 'vigilant', 'ecstatically', 'worked', 'faithfulness', 'godlike', 'affirmation', 'unrivaled', 'easier', 'euphorically', 'ingenious', 'fondly', 'nimble', 'magnanimously', 'well-received', 'boundless', 'stellar', 'gratifyingly', 'invaluablely', 'ovation', 'amusing', 'exultingly', 'poignant', 'holy', 'important', 'amiability', 'intrigue', 'excite', 'exemplar', 'outdo', 'cleanly', 'heros', 'sufficed', 'abound', 'mightily', 'pleasurable', 'fearlessly', 'empathy', 'golden', 'outstandingly', 'prolific', 'passion', 'enviousness', 'better-than-expected', 'cooperative', 'tantalizingly', 'dotingly', 'liberate', 'persevere', 'useable', 'non-violent', 'faithful', 'joyous', 'heroine', 'cohesive', 'diligent', 'exceeded', 'eye-catching', 'dawn', 'appreciable', 'smoothest', 'trusting', 'comfort', 'coolest', 'wonderfully', 'accomplishment', 'compatible', 'eyecatching', 'high-spirited', 'expeditiously', 'entertains', 'feasibly', 'appreciatively', 'capably', 'windfall', 'fortunate', 'rockstars', 'eloquence', 'best', 'nice', 'finest', 'supremacy', 'thoughtfully', 'realistic', 'joyously', 'exquisite', 'novelty', 'stimulative', 'pardon', 'jolly', 'liberation', 'glistening', 'titillating', 'dirt-cheap', 'mesmerizingly', 'sincerely', 'kindliness', 'sparkle', 'awestruck', 'intimacy', 'mastery', 'awsome', 'flashy', 'notably', 'detachable', 'awards', 'togetherness', 'sensations', 'prospros', 'ameliorate', 'sensation', 'admirer', 'generously', 'defeated', 'profusion', 'amaze', 'hilarious', 'gems', 'restructuring', 'tranquility', 'great', 'unbound', 'alluring', 'smoother', 'adventurous', 'clean', 'dedicated', 'autonomous', 'logical', 'refinement', 'refine', 'ultra-crisp', 'reforming', 'modern', 'amicably', 'prompt', 'fecilitous', 'wealthy', 'assure', 'tingle', 'courageously', 'promoter', 'advantages', 'marvel', 'remedy', 'revives', 'affable', 'innovation', 'workable', 'peps', 'fresher', 'gumption', 'user-friendly', 'viewable', 'upscale', 'classy', 'astonishingly', 'handsomely', 'blossom', 'prize', 'goodwill', 'affirmative', 'convenient', 'monumental', 'excitingly', 'gracious', 'cherish', 'enviable', 'uplifting', 'well-run', 'defender', 'harmonize', 'swank', 'astutely', 'fondness', 'correctly', 'swankiest', 'constructive', 'famously', 'welcome', 'hug'}\n"
     ]
    }
   ],
   "source": [
    "print(positive_words)"
   ]
  },
  {
   "cell_type": "code",
   "execution_count": 68,
   "metadata": {},
   "outputs": [],
   "source": [
    "# skip grams\n",
    "def features_skip(text, ngram_range=(1,3)):\n",
    "    text = text.lower()      # make the string lowercase\n",
    "    text = re.sub(r'(.)\\1+', r'\\1\\1', text)     # remove consecutive characters that are repeated more than twice\n",
    "    \n",
    "    features_in_text = []   # running list of all features in this instance (can be repeated)\n",
    "    \n",
    "    # treat alphanumeric characters as word tokens (removing anything else),\n",
    "    # and extract all n-grams of length n specified by ngram_range\n",
    "    \n",
    "    text_alphanum = re.sub('[^a-z0-9]', ' ', text)\n",
    "    for n in range(ngram_range[0], ngram_range[1]+1):\n",
    "        features_in_text += ngrams(text_alphanum.split(), n)\n",
    "    \n",
    "    # replace word ngrams with asterisks\n",
    "    for index, ngram in enumerate(features_in_text):\n",
    "        word_vec = ngram.split()\n",
    "        word_vec_len = len(word_vec)\n",
    "        if word_vec_len > 2:\n",
    "            asterisk_count = word_vec_len - 2\n",
    "            features_in_text[index] = \" \".join([word_vec[0]] + [\"*\"]*asterisk_count + [word_vec[-1]])\n",
    "    \n",
    "    # now treat punctuation as word tokens, and get their counts (only unigrams)\n",
    "    \n",
    "    text_punc = re.sub('[a-z0-9]', ' ', text)\n",
    "    features_in_text += ngrams(text_punc.split(), 1)\n",
    "    \n",
    "    # 'Counter' converts a list into a dictionary whose keys are the list elements \n",
    "    #  and the values are the number of times each element appeared in the list\n",
    "    return Counter(features_in_text)"
   ]
  },
  {
   "cell_type": "code",
   "execution_count": 71,
   "metadata": {},
   "outputs": [
    {
     "name": "stdout",
     "output_type": "stream",
     "text": [
      "Counter({'a': 2, 'sentence': 2, 'it': 2, 's': 2, 'a sentence': 2, 'it s': 2, '!!': 2, ',': 2, \"'\": 2, 'this': 1, 'is': 1, 'an': 1, 'example': 1, 'of': 1, 'to': 1, 'tokenize': 1, 'actually': 1, 'more': 1, 'than': 1, 'two': 1, 'sentences': 1, 'this is': 1, 'is an': 1, 'an example': 1, 'example of': 1, 'of a': 1, 'sentence to': 1, 'to tokenize': 1, 'tokenize actually': 1, 'actually it': 1, 's more': 1, 'more than': 1, 'than a': 1, 'sentence it': 1, 's two': 1, 'two sentences': 1, 'this * an': 1, 'is * example': 1, 'an * of': 1, 'example * a': 1, 'of * sentence': 1, 'a * to': 1, 'sentence * tokenize': 1, 'to * actually': 1, 'tokenize * it': 1, 'actually * s': 1, 'it * more': 1, 's * than': 1, 'more * a': 1, 'than * sentence': 1, 'a * it': 1, 'sentence * s': 1, 'it * two': 1, 's * sentences': 1})\n"
     ]
    }
   ],
   "source": [
    "text = \"This is an example of a sentence to tokenize!! Actually, it's more than a sentence, it's two sentences!!!\"\n",
    "\n",
    "print(features_skip(text, ngram_range=(1,3)))"
   ]
  },
  {
   "cell_type": "code",
   "execution_count": 72,
   "metadata": {},
   "outputs": [
    {
     "name": "stdout",
     "output_type": "stream",
     "text": [
      "Validation accuracy: 0.801124\n",
      "Test accuracy: 0.736364\n"
     ]
    }
   ],
   "source": [
    "# Skip gram\n",
    "X_train_final = vect.fit_transform(features_skip(d, ngram_range=ngr) for d in text_train)\n",
    "X_test_final = vect.transform(features_skip(d, ngram_range=ngr) for d in text_test)\n",
    "\n",
    "selection = SelectPercentile(percentile=per, score_func=chi2)\n",
    "X_train_final = selection.fit_transform(X_train_final, Y_train)\n",
    "X_test_final = selection.transform(X_test_final)\n",
    "\n",
    "gs_classifier = GridSearchCV(base_classifier, params, cv=5)\n",
    "gs_classifier.fit(X_train_final, Y_train)\n",
    "\n",
    "print(\"Validation accuracy: %0.6f\" % gs_classifier.best_score_)\n",
    "print(\"Test accuracy: %0.6f\" % accuracy_score(Y_test, gs_classifier.predict(X_test_final)))"
   ]
  },
  {
   "cell_type": "code",
   "execution_count": 73,
   "metadata": {},
   "outputs": [
    {
     "name": "stdout",
     "output_type": "stream",
     "text": [
      "Validation accuracy: 0.810112\n",
      "Test accuracy: 0.727273\n"
     ]
    }
   ],
   "source": [
    "# Skip gram:for ngram (1,4)\n",
    "X_train_final = vect.fit_transform(features_skip(d, ngram_range=(1,4)) for d in text_train)\n",
    "X_test_final = vect.transform(features_skip(d, ngram_range=(1,4)) for d in text_test)\n",
    "\n",
    "selection = SelectPercentile(percentile=per, score_func=chi2)\n",
    "X_train_final = selection.fit_transform(X_train_final, Y_train)\n",
    "X_test_final = selection.transform(X_test_final)\n",
    "\n",
    "gs_classifier = GridSearchCV(base_classifier, params, cv=5)\n",
    "gs_classifier.fit(X_train_final, Y_train)\n",
    "\n",
    "print(\"Validation accuracy: %0.6f\" % gs_classifier.best_score_)\n",
    "print(\"Test accuracy: %0.6f\" % accuracy_score(Y_test, gs_classifier.predict(X_test_final)))"
   ]
  },
  {
   "cell_type": "code",
   "execution_count": 116,
   "metadata": {},
   "outputs": [],
   "source": [
    "# word pairs\n",
    "def features_pairs(text):\n",
    "    text = text.lower()      # make the string lowercase\n",
    "    text = re.sub(r'(.)\\1+', r'\\1\\1', text)     # remove consecutive characters that are repeated more than twice\n",
    "    \n",
    "    features_in_text = []   # running list of all features in this instance (can be repeated)\n",
    "    \n",
    "    # treat alphanumeric characters as word tokens (removing anything else),\n",
    "    # and extract all n-grams of length n specified by ngram_range\n",
    "    \n",
    "    text_alphanum = re.sub('[^a-z0-9]', ' ', text).split()\n",
    "\n",
    "    # look at word pairs\n",
    "    word_pairs = {}\n",
    "    for ind1, word_1 in enumerate(text_alphanum):\n",
    "        for ind2, word_2 in enumerate(text_alphanum[ind1+1:]):\n",
    "            srtd_word_pair = tuple(sorted([word_1, word_2]))\n",
    "            if ind2 == 0:\n",
    "                word_pairs[srtd_word_pair] = 1\n",
    "            #elif srtd_word_pair not in word_pairs:\n",
    "                #word_pairs[srtd_word_pair] = 0\n",
    "    \n",
    "    return word_pairs"
   ]
  },
  {
   "cell_type": "code",
   "execution_count": 117,
   "metadata": {},
   "outputs": [
    {
     "name": "stdout",
     "output_type": "stream",
     "text": [
      "{('is', 'this'): 1, ('an', 'is'): 1, ('an', 'example'): 1, ('example', 'of'): 1, ('a', 'of'): 1, ('a', 'sentence'): 1, ('sentence', 'to'): 1, ('to', 'tokenize'): 1, ('actually', 'tokenize'): 1, ('actually', 'it'): 1, ('it', 's'): 1, ('more', 's'): 1, ('more', 'than'): 1, ('a', 'than'): 1, ('it', 'sentence'): 1, ('s', 'two'): 1, ('sentences', 'two'): 1}\n"
     ]
    }
   ],
   "source": [
    "text = \"This is an example of a sentence to tokenize!! Actually, it's more than a sentence, it's two sentences!!!\"\n",
    "\n",
    "print(features_pairs(text))"
   ]
  },
  {
   "cell_type": "code",
   "execution_count": 119,
   "metadata": {},
   "outputs": [
    {
     "name": "stdout",
     "output_type": "stream",
     "text": [
      "Validation accuracy: 0.798876\n",
      "Test accuracy: 0.681818\n"
     ]
    }
   ],
   "source": [
    "# word pairs:\n",
    "X_train_final = vect.fit_transform(features_pairs(d,) for d in text_train)\n",
    "X_test_final = vect.transform(features_pairs(d,) for d in text_test)\n",
    "\n",
    "selection = SelectPercentile(percentile=per, score_func=chi2)\n",
    "X_train_final = selection.fit_transform(X_train_final, Y_train)\n",
    "X_test_final = selection.transform(X_test_final)\n",
    "\n",
    "gs_classifier = GridSearchCV(base_classifier, params, cv=5)\n",
    "gs_classifier.fit(X_train_final, Y_train)\n",
    "\n",
    "print(\"Validation accuracy: %0.6f\" % gs_classifier.best_score_)\n",
    "print(\"Test accuracy: %0.6f\" % accuracy_score(Y_test, gs_classifier.predict(X_test_final)))"
   ]
  },
  {
   "cell_type": "code",
   "execution_count": 124,
   "metadata": {},
   "outputs": [
    {
     "name": "stdout",
     "output_type": "stream",
     "text": [
      "Validation accuracy: 0.773034\n",
      "Test accuracy: 0.690909\n"
     ]
    }
   ],
   "source": [
    "# word pairs control\n",
    "def features_pairs_control(text, ngram_range=(2,2)):\n",
    "    text = text.lower()      # make the string lowercase\n",
    "    text = re.sub(r'(.)\\1+', r'\\1\\1', text)     # remove consecutive characters that are repeated more than twice\n",
    "    \n",
    "    features_in_text = []   # running list of all features in this instance (can be repeated)\n",
    "    \n",
    "    # treat alphanumeric characters as word tokens (removing anything else),\n",
    "    # and extract all n-grams of length n specified by ngram_range\n",
    "    \n",
    "    text_alphanum = re.sub('[^a-z0-9]', ' ', text)\n",
    "    for n in range(ngram_range[0], ngram_range[1]+1):\n",
    "        features_in_text += ngrams(text_alphanum.split(), n)\n",
    "    \n",
    "    return Counter(features_in_text)\n",
    "\n",
    "X_train_final = vect.fit_transform(features_pairs_control(d,(2,2)) for d in text_train)\n",
    "X_test_final = vect.transform(features_pairs_control(d,(2,2)) for d in text_test)\n",
    "\n",
    "selection = SelectPercentile(percentile=per, score_func=chi2)\n",
    "X_train_final = selection.fit_transform(X_train_final, Y_train)\n",
    "X_test_final = selection.transform(X_test_final)\n",
    "\n",
    "gs_classifier = GridSearchCV(base_classifier, params, cv=5)\n",
    "gs_classifier.fit(X_train_final, Y_train)\n",
    "\n",
    "print(\"Validation accuracy: %0.6f\" % gs_classifier.best_score_)\n",
    "print(\"Test accuracy: %0.6f\" % accuracy_score(Y_test, gs_classifier.predict(X_test_final)))"
   ]
  },
  {
   "cell_type": "code",
   "execution_count": 150,
   "metadata": {},
   "outputs": [],
   "source": [
    "def features_sentiment(text, ngram_range=(1,1)):\n",
    "    text = text.lower()      # make the string lowercase\n",
    "    text = re.sub(r'(.)\\1+', r'\\1\\1', text)     # remove consecutive characters that are repeated more than twice\n",
    "    \n",
    "    features_in_text = []   # running list of all features in this instance (can be repeated)\n",
    "    \n",
    "    # treat alphanumeric characters as word tokens (removing anything else),\n",
    "    # and extract all n-grams of length n specified by ngram_range\n",
    "    \n",
    "    text_alphanum = re.sub('[^a-z0-9]', ' ', text)\n",
    "    for n in range(ngram_range[0], ngram_range[1]+1):\n",
    "        features_in_text += ngrams(text_alphanum.split(), n)\n",
    "        \n",
    "    for ngram in features_in_text:\n",
    "        tmp_ngram = ngram.split()\n",
    "        for ind, word in enumerate(tmp_ngram):\n",
    "            if word in positive_words:\n",
    "                tmp_ngram[ind] = \"POS\"\n",
    "            elif word in negative_words:\n",
    "                tmp_ngram[ind] = \"NEG\"\n",
    "        # turn list into string\n",
    "        tmp_ngram = ' '.join(tmp_ngram)\n",
    "        if tmp_ngram != ngram:\n",
    "            features_in_text.append(tmp_ngram)\n",
    "        \n",
    "    \n",
    "    # now treat punctuation as word tokens, and get their counts (only unigrams)\n",
    "    \n",
    "    text_punc = re.sub('[a-z0-9]', ' ', text)\n",
    "    features_in_text += ngrams(text_punc.split(), 1)\n",
    "    \n",
    "    # 'Counter' converts a list into a dictionary whose keys are the list elements \n",
    "    #  and the values are the number of times each element appeared in the list\n",
    "    \n",
    "    return Counter(features_in_text)"
   ]
  },
  {
   "cell_type": "code",
   "execution_count": 153,
   "metadata": {},
   "outputs": [
    {
     "name": "stdout",
     "output_type": "stream",
     "text": [
      "Counter({'the water': 1, 'water is': 1, 'is cold': 1, 'is NEG': 1, '.': 1})\n"
     ]
    }
   ],
   "source": [
    "text = \"The water is cold.\"\n",
    "\n",
    "print(features_sentiment(text, ngram_range=(2,2)))"
   ]
  },
  {
   "cell_type": "code",
   "execution_count": null,
   "metadata": {},
   "outputs": [],
   "source": [
    "# code for 2.1-2.2 here\n",
    "\n",
    "# You should be able to use the code below as-is, except replace the call to the \"features\" function \n",
    "# in the first two lines with a call to the new function that you need to create\n",
    "\n",
    "X_train_final = vect.fit_transform(features_sentiment(d, ngram_range=ngr) for d in text_train)\n",
    "X_test_final = vect.transform(features_sentiment(d, ngram_range=ngr) for d in text_test)\n",
    "\n",
    "selection = SelectPercentile(percentile=per, score_func=chi2)\n",
    "X_train_final = selection.fit_transform(X_train_final, Y_train)\n",
    "X_test_final = selection.transform(X_test_final)\n",
    "\n",
    "gs_classifier = GridSearchCV(base_classifier, params, cv=5)\n",
    "gs_classifier.fit(X_train_final, Y_train)\n",
    "\n",
    "print(\"Validation accuracy: %0.6f\" % gs_classifier.best_score_)\n",
    "print(\"Test accuracy: %0.6f\" % accuracy_score(Y_test, gs_classifier.predict(X_test_final)))"
   ]
  }
 ],
 "metadata": {
  "kernelspec": {
   "display_name": "Python 3 (ipykernel)",
   "language": "python",
   "name": "python3"
  },
  "language_info": {
   "codemirror_mode": {
    "name": "ipython",
    "version": 3
   },
   "file_extension": ".py",
   "mimetype": "text/x-python",
   "name": "python",
   "nbconvert_exporter": "python",
   "pygments_lexer": "ipython3",
   "version": "3.9.13"
  }
 },
 "nbformat": 4,
 "nbformat_minor": 2
}
