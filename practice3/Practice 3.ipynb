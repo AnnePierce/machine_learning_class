{
 "cells": [
  {
   "cell_type": "code",
   "execution_count": 3,
   "id": "1156b8b1",
   "metadata": {},
   "outputs": [],
   "source": [
    "import pandas as pd\n",
    "import numpy as np"
   ]
  },
  {
   "cell_type": "markdown",
   "id": "765b0aa5",
   "metadata": {},
   "source": [
    "# Part 1. Logistic Regression"
   ]
  },
  {
   "cell_type": "markdown",
   "id": "4572441b",
   "metadata": {},
   "source": [
    "Let's return to the `Smarket` data."
   ]
  },
  {
   "cell_type": "code",
   "execution_count": 6,
   "id": "310e516f",
   "metadata": {},
   "outputs": [
    {
     "data": {
      "text/html": [
       "<div>\n",
       "<style scoped>\n",
       "    .dataframe tbody tr th:only-of-type {\n",
       "        vertical-align: middle;\n",
       "    }\n",
       "\n",
       "    .dataframe tbody tr th {\n",
       "        vertical-align: top;\n",
       "    }\n",
       "\n",
       "    .dataframe thead th {\n",
       "        text-align: right;\n",
       "    }\n",
       "</style>\n",
       "<table border=\"1\" class=\"dataframe\">\n",
       "  <thead>\n",
       "    <tr style=\"text-align: right;\">\n",
       "      <th></th>\n",
       "      <th>Lag1</th>\n",
       "      <th>Lag2</th>\n",
       "      <th>Lag3</th>\n",
       "      <th>Lag4</th>\n",
       "      <th>Lag5</th>\n",
       "      <th>Volume</th>\n",
       "      <th>Today</th>\n",
       "    </tr>\n",
       "  </thead>\n",
       "  <tbody>\n",
       "    <tr>\n",
       "      <th>count</th>\n",
       "      <td>1250.000000</td>\n",
       "      <td>1250.000000</td>\n",
       "      <td>1250.000000</td>\n",
       "      <td>1250.000000</td>\n",
       "      <td>1250.00000</td>\n",
       "      <td>1250.000000</td>\n",
       "      <td>1250.000000</td>\n",
       "    </tr>\n",
       "    <tr>\n",
       "      <th>mean</th>\n",
       "      <td>0.003834</td>\n",
       "      <td>0.003919</td>\n",
       "      <td>0.001716</td>\n",
       "      <td>0.001636</td>\n",
       "      <td>0.00561</td>\n",
       "      <td>1.478305</td>\n",
       "      <td>0.003138</td>\n",
       "    </tr>\n",
       "    <tr>\n",
       "      <th>std</th>\n",
       "      <td>1.136299</td>\n",
       "      <td>1.136280</td>\n",
       "      <td>1.138703</td>\n",
       "      <td>1.138774</td>\n",
       "      <td>1.14755</td>\n",
       "      <td>0.360357</td>\n",
       "      <td>1.136334</td>\n",
       "    </tr>\n",
       "    <tr>\n",
       "      <th>min</th>\n",
       "      <td>-4.922000</td>\n",
       "      <td>-4.922000</td>\n",
       "      <td>-4.922000</td>\n",
       "      <td>-4.922000</td>\n",
       "      <td>-4.92200</td>\n",
       "      <td>0.356070</td>\n",
       "      <td>-4.922000</td>\n",
       "    </tr>\n",
       "    <tr>\n",
       "      <th>25%</th>\n",
       "      <td>-0.639500</td>\n",
       "      <td>-0.639500</td>\n",
       "      <td>-0.640000</td>\n",
       "      <td>-0.640000</td>\n",
       "      <td>-0.64000</td>\n",
       "      <td>1.257400</td>\n",
       "      <td>-0.639500</td>\n",
       "    </tr>\n",
       "    <tr>\n",
       "      <th>50%</th>\n",
       "      <td>0.039000</td>\n",
       "      <td>0.039000</td>\n",
       "      <td>0.038500</td>\n",
       "      <td>0.038500</td>\n",
       "      <td>0.03850</td>\n",
       "      <td>1.422950</td>\n",
       "      <td>0.038500</td>\n",
       "    </tr>\n",
       "    <tr>\n",
       "      <th>75%</th>\n",
       "      <td>0.596750</td>\n",
       "      <td>0.596750</td>\n",
       "      <td>0.596750</td>\n",
       "      <td>0.596750</td>\n",
       "      <td>0.59700</td>\n",
       "      <td>1.641675</td>\n",
       "      <td>0.596750</td>\n",
       "    </tr>\n",
       "    <tr>\n",
       "      <th>max</th>\n",
       "      <td>5.733000</td>\n",
       "      <td>5.733000</td>\n",
       "      <td>5.733000</td>\n",
       "      <td>5.733000</td>\n",
       "      <td>5.73300</td>\n",
       "      <td>3.152470</td>\n",
       "      <td>5.733000</td>\n",
       "    </tr>\n",
       "  </tbody>\n",
       "</table>\n",
       "</div>"
      ],
      "text/plain": [
       "              Lag1         Lag2         Lag3         Lag4        Lag5  \\\n",
       "count  1250.000000  1250.000000  1250.000000  1250.000000  1250.00000   \n",
       "mean      0.003834     0.003919     0.001716     0.001636     0.00561   \n",
       "std       1.136299     1.136280     1.138703     1.138774     1.14755   \n",
       "min      -4.922000    -4.922000    -4.922000    -4.922000    -4.92200   \n",
       "25%      -0.639500    -0.639500    -0.640000    -0.640000    -0.64000   \n",
       "50%       0.039000     0.039000     0.038500     0.038500     0.03850   \n",
       "75%       0.596750     0.596750     0.596750     0.596750     0.59700   \n",
       "max       5.733000     5.733000     5.733000     5.733000     5.73300   \n",
       "\n",
       "            Volume        Today  \n",
       "count  1250.000000  1250.000000  \n",
       "mean      1.478305     0.003138  \n",
       "std       0.360357     1.136334  \n",
       "min       0.356070    -4.922000  \n",
       "25%       1.257400    -0.639500  \n",
       "50%       1.422950     0.038500  \n",
       "75%       1.641675     0.596750  \n",
       "max       3.152470     5.733000  "
      ]
     },
     "execution_count": 6,
     "metadata": {},
     "output_type": "execute_result"
    }
   ],
   "source": [
    "df = pd.read_csv('Smarket.csv', usecols=range(1,10), index_col=0, parse_dates=True)\n",
    "df.describe()"
   ]
  },
  {
   "cell_type": "code",
   "execution_count": 10,
   "id": "b4331513",
   "metadata": {},
   "outputs": [
    {
     "data": {
      "text/html": [
       "<div>\n",
       "<style scoped>\n",
       "    .dataframe tbody tr th:only-of-type {\n",
       "        vertical-align: middle;\n",
       "    }\n",
       "\n",
       "    .dataframe tbody tr th {\n",
       "        vertical-align: top;\n",
       "    }\n",
       "\n",
       "    .dataframe thead th {\n",
       "        text-align: right;\n",
       "    }\n",
       "</style>\n",
       "<table border=\"1\" class=\"dataframe\">\n",
       "  <thead>\n",
       "    <tr style=\"text-align: right;\">\n",
       "      <th></th>\n",
       "      <th>Lag1</th>\n",
       "      <th>Lag2</th>\n",
       "      <th>Lag3</th>\n",
       "      <th>Lag4</th>\n",
       "      <th>Lag5</th>\n",
       "      <th>Volume</th>\n",
       "      <th>Today</th>\n",
       "      <th>Direction</th>\n",
       "    </tr>\n",
       "    <tr>\n",
       "      <th>Year</th>\n",
       "      <th></th>\n",
       "      <th></th>\n",
       "      <th></th>\n",
       "      <th></th>\n",
       "      <th></th>\n",
       "      <th></th>\n",
       "      <th></th>\n",
       "      <th></th>\n",
       "    </tr>\n",
       "  </thead>\n",
       "  <tbody>\n",
       "    <tr>\n",
       "      <th>2001-01-01</th>\n",
       "      <td>0.381</td>\n",
       "      <td>-0.192</td>\n",
       "      <td>-2.624</td>\n",
       "      <td>-1.055</td>\n",
       "      <td>5.010</td>\n",
       "      <td>1.1913</td>\n",
       "      <td>0.959</td>\n",
       "      <td>Up</td>\n",
       "    </tr>\n",
       "    <tr>\n",
       "      <th>2001-01-01</th>\n",
       "      <td>0.959</td>\n",
       "      <td>0.381</td>\n",
       "      <td>-0.192</td>\n",
       "      <td>-2.624</td>\n",
       "      <td>-1.055</td>\n",
       "      <td>1.2965</td>\n",
       "      <td>1.032</td>\n",
       "      <td>Up</td>\n",
       "    </tr>\n",
       "    <tr>\n",
       "      <th>2001-01-01</th>\n",
       "      <td>1.032</td>\n",
       "      <td>0.959</td>\n",
       "      <td>0.381</td>\n",
       "      <td>-0.192</td>\n",
       "      <td>-2.624</td>\n",
       "      <td>1.4112</td>\n",
       "      <td>-0.623</td>\n",
       "      <td>Down</td>\n",
       "    </tr>\n",
       "    <tr>\n",
       "      <th>2001-01-01</th>\n",
       "      <td>-0.623</td>\n",
       "      <td>1.032</td>\n",
       "      <td>0.959</td>\n",
       "      <td>0.381</td>\n",
       "      <td>-0.192</td>\n",
       "      <td>1.2760</td>\n",
       "      <td>0.614</td>\n",
       "      <td>Up</td>\n",
       "    </tr>\n",
       "    <tr>\n",
       "      <th>2001-01-01</th>\n",
       "      <td>0.614</td>\n",
       "      <td>-0.623</td>\n",
       "      <td>1.032</td>\n",
       "      <td>0.959</td>\n",
       "      <td>0.381</td>\n",
       "      <td>1.2057</td>\n",
       "      <td>0.213</td>\n",
       "      <td>Up</td>\n",
       "    </tr>\n",
       "  </tbody>\n",
       "</table>\n",
       "</div>"
      ],
      "text/plain": [
       "             Lag1   Lag2   Lag3   Lag4   Lag5  Volume  Today Direction\n",
       "Year                                                                  \n",
       "2001-01-01  0.381 -0.192 -2.624 -1.055  5.010  1.1913  0.959        Up\n",
       "2001-01-01  0.959  0.381 -0.192 -2.624 -1.055  1.2965  1.032        Up\n",
       "2001-01-01  1.032  0.959  0.381 -0.192 -2.624  1.4112 -0.623      Down\n",
       "2001-01-01 -0.623  1.032  0.959  0.381 -0.192  1.2760  0.614        Up\n",
       "2001-01-01  0.614 -0.623  1.032  0.959  0.381  1.2057  0.213        Up"
      ]
     },
     "execution_count": 10,
     "metadata": {},
     "output_type": "execute_result"
    }
   ],
   "source": [
    "df1 = pd.read_csv('Smarket.csv', usecols=range(1,10), index_col=0, parse_dates=True)\n",
    "df1.head()"
   ]
  },
  {
   "cell_type": "markdown",
   "id": "afed7e88",
   "metadata": {},
   "source": [
    "In this lab, we will fit a logistic regression model in order to predict ${\\tt Direction}$ using ${\\tt Lag1}$ through ${\\tt Lag5}$ and ${\\tt Volume}$. We'll build our model using the ${\\tt LogisticRegression()}$ function."
   ]
  },
  {
   "cell_type": "code",
   "execution_count": 11,
   "id": "7e615b32",
   "metadata": {},
   "outputs": [],
   "source": [
    "from sklearn.linear_model import LogisticRegression"
   ]
  },
  {
   "cell_type": "code",
   "execution_count": 12,
   "id": "a9560786",
   "metadata": {},
   "outputs": [],
   "source": [
    "logiReg = LogisticRegression()"
   ]
  },
  {
   "cell_type": "markdown",
   "id": "730be53f",
   "metadata": {},
   "source": [
    "In order to better assess the accuracy\n",
    "of the logistic regression model in this setting, we can fit the model\n",
    "using part of the data, and then examine how well it predicts the held out\n",
    "data. This will yield a more realistic error rate, in the sense that in practice\n",
    "we will be interested in our model’s performance not on the data that\n",
    "we used to fit the model, but rather on days in the future for which the\n",
    "market’s movements are unknown.\n",
    "\n",
    "Like we did with KNN, we will first create a vector corresponding\n",
    "to the observations from 2001 through 2004. We will then use this vector\n",
    "to create a held out data set of observations from 2005."
   ]
  },
  {
   "cell_type": "code",
   "execution_count": 17,
   "id": "5b5e25b5",
   "metadata": {},
   "outputs": [
    {
     "data": {
      "text/html": [
       "<div>\n",
       "<style scoped>\n",
       "    .dataframe tbody tr th:only-of-type {\n",
       "        vertical-align: middle;\n",
       "    }\n",
       "\n",
       "    .dataframe tbody tr th {\n",
       "        vertical-align: top;\n",
       "    }\n",
       "\n",
       "    .dataframe thead th {\n",
       "        text-align: right;\n",
       "    }\n",
       "</style>\n",
       "<table border=\"1\" class=\"dataframe\">\n",
       "  <thead>\n",
       "    <tr style=\"text-align: right;\">\n",
       "      <th></th>\n",
       "      <th>Lag1</th>\n",
       "      <th>Lag2</th>\n",
       "      <th>Lag3</th>\n",
       "      <th>Lag4</th>\n",
       "      <th>Lag5</th>\n",
       "      <th>Volume</th>\n",
       "    </tr>\n",
       "    <tr>\n",
       "      <th>Year</th>\n",
       "      <th></th>\n",
       "      <th></th>\n",
       "      <th></th>\n",
       "      <th></th>\n",
       "      <th></th>\n",
       "      <th></th>\n",
       "    </tr>\n",
       "  </thead>\n",
       "  <tbody>\n",
       "    <tr>\n",
       "      <th>2004-01-01</th>\n",
       "      <td>0.046</td>\n",
       "      <td>0.342</td>\n",
       "      <td>0.904</td>\n",
       "      <td>0.038</td>\n",
       "      <td>-0.749</td>\n",
       "      <td>0.9561</td>\n",
       "    </tr>\n",
       "    <tr>\n",
       "      <th>2004-01-01</th>\n",
       "      <td>-0.431</td>\n",
       "      <td>0.046</td>\n",
       "      <td>0.342</td>\n",
       "      <td>0.904</td>\n",
       "      <td>0.038</td>\n",
       "      <td>0.9220</td>\n",
       "    </tr>\n",
       "    <tr>\n",
       "      <th>2004-01-01</th>\n",
       "      <td>0.715</td>\n",
       "      <td>-0.431</td>\n",
       "      <td>0.046</td>\n",
       "      <td>0.342</td>\n",
       "      <td>0.904</td>\n",
       "      <td>0.9830</td>\n",
       "    </tr>\n",
       "    <tr>\n",
       "      <th>2004-01-01</th>\n",
       "      <td>-0.007</td>\n",
       "      <td>0.715</td>\n",
       "      <td>-0.431</td>\n",
       "      <td>0.046</td>\n",
       "      <td>0.342</td>\n",
       "      <td>0.9259</td>\n",
       "    </tr>\n",
       "    <tr>\n",
       "      <th>2004-01-01</th>\n",
       "      <td>0.008</td>\n",
       "      <td>-0.007</td>\n",
       "      <td>0.715</td>\n",
       "      <td>-0.431</td>\n",
       "      <td>0.046</td>\n",
       "      <td>0.8298</td>\n",
       "    </tr>\n",
       "  </tbody>\n",
       "</table>\n",
       "</div>"
      ],
      "text/plain": [
       "             Lag1   Lag2   Lag3   Lag4   Lag5  Volume\n",
       "Year                                                 \n",
       "2004-01-01  0.046  0.342  0.904  0.038 -0.749  0.9561\n",
       "2004-01-01 -0.431  0.046  0.342  0.904  0.038  0.9220\n",
       "2004-01-01  0.715 -0.431  0.046  0.342  0.904  0.9830\n",
       "2004-01-01 -0.007  0.715 -0.431  0.046  0.342  0.9259\n",
       "2004-01-01  0.008 -0.007  0.715 -0.431  0.046  0.8298"
      ]
     },
     "execution_count": 17,
     "metadata": {},
     "output_type": "execute_result"
    }
   ],
   "source": [
    "X_train = df[:'2004'][:]\n",
    "X_train = X_train.drop('Today', axis=1)\n",
    "X_train = X_train.drop('Direction', axis=1)\n",
    "X_train.tail()"
   ]
  },
  {
   "cell_type": "code",
   "execution_count": 19,
   "id": "da15b111",
   "metadata": {},
   "outputs": [],
   "source": [
    "y_train = df[:'2004']['Direction']"
   ]
  },
  {
   "cell_type": "code",
   "execution_count": 21,
   "id": "713f0a59",
   "metadata": {},
   "outputs": [
    {
     "data": {
      "text/html": [
       "<div>\n",
       "<style scoped>\n",
       "    .dataframe tbody tr th:only-of-type {\n",
       "        vertical-align: middle;\n",
       "    }\n",
       "\n",
       "    .dataframe tbody tr th {\n",
       "        vertical-align: top;\n",
       "    }\n",
       "\n",
       "    .dataframe thead th {\n",
       "        text-align: right;\n",
       "    }\n",
       "</style>\n",
       "<table border=\"1\" class=\"dataframe\">\n",
       "  <thead>\n",
       "    <tr style=\"text-align: right;\">\n",
       "      <th></th>\n",
       "      <th>Lag1</th>\n",
       "      <th>Lag2</th>\n",
       "      <th>Lag3</th>\n",
       "      <th>Lag4</th>\n",
       "      <th>Lag5</th>\n",
       "      <th>Volume</th>\n",
       "    </tr>\n",
       "    <tr>\n",
       "      <th>Year</th>\n",
       "      <th></th>\n",
       "      <th></th>\n",
       "      <th></th>\n",
       "      <th></th>\n",
       "      <th></th>\n",
       "      <th></th>\n",
       "    </tr>\n",
       "  </thead>\n",
       "  <tbody>\n",
       "    <tr>\n",
       "      <th>2005-01-01</th>\n",
       "      <td>-0.134</td>\n",
       "      <td>0.008</td>\n",
       "      <td>-0.007</td>\n",
       "      <td>0.715</td>\n",
       "      <td>-0.431</td>\n",
       "      <td>0.7869</td>\n",
       "    </tr>\n",
       "    <tr>\n",
       "      <th>2005-01-01</th>\n",
       "      <td>-0.812</td>\n",
       "      <td>-0.134</td>\n",
       "      <td>0.008</td>\n",
       "      <td>-0.007</td>\n",
       "      <td>0.715</td>\n",
       "      <td>1.5108</td>\n",
       "    </tr>\n",
       "    <tr>\n",
       "      <th>2005-01-01</th>\n",
       "      <td>-1.167</td>\n",
       "      <td>-0.812</td>\n",
       "      <td>-0.134</td>\n",
       "      <td>0.008</td>\n",
       "      <td>-0.007</td>\n",
       "      <td>1.7210</td>\n",
       "    </tr>\n",
       "    <tr>\n",
       "      <th>2005-01-01</th>\n",
       "      <td>-0.363</td>\n",
       "      <td>-1.167</td>\n",
       "      <td>-0.812</td>\n",
       "      <td>-0.134</td>\n",
       "      <td>0.008</td>\n",
       "      <td>1.7389</td>\n",
       "    </tr>\n",
       "    <tr>\n",
       "      <th>2005-01-01</th>\n",
       "      <td>0.351</td>\n",
       "      <td>-0.363</td>\n",
       "      <td>-1.167</td>\n",
       "      <td>-0.812</td>\n",
       "      <td>-0.134</td>\n",
       "      <td>1.5691</td>\n",
       "    </tr>\n",
       "  </tbody>\n",
       "</table>\n",
       "</div>"
      ],
      "text/plain": [
       "             Lag1   Lag2   Lag3   Lag4   Lag5  Volume\n",
       "Year                                                 \n",
       "2005-01-01 -0.134  0.008 -0.007  0.715 -0.431  0.7869\n",
       "2005-01-01 -0.812 -0.134  0.008 -0.007  0.715  1.5108\n",
       "2005-01-01 -1.167 -0.812 -0.134  0.008 -0.007  1.7210\n",
       "2005-01-01 -0.363 -1.167 -0.812 -0.134  0.008  1.7389\n",
       "2005-01-01  0.351 -0.363 -1.167 -0.812 -0.134  1.5691"
      ]
     },
     "execution_count": 21,
     "metadata": {},
     "output_type": "execute_result"
    }
   ],
   "source": [
    "X_test = df['2005':][:]\n",
    "X_test = X_test.drop(['Today', 'Direction'], axis=1)\n",
    "X_test.head()"
   ]
  },
  {
   "cell_type": "code",
   "execution_count": 22,
   "id": "6808db62",
   "metadata": {},
   "outputs": [],
   "source": [
    "y_test = df['2005':]['Direction']"
   ]
  },
  {
   "cell_type": "markdown",
   "id": "0e0193ee",
   "metadata": {},
   "source": [
    "We now fit a logistic regression model using only the subset of the observations\n",
    "that correspond to dates before 2005, using the subset argument.\n",
    "We then obtain predicted probabilities of the stock market going up for\n",
    "each of the days in our test set—that is, for the days in 2005."
   ]
  },
  {
   "cell_type": "code",
   "execution_count": 23,
   "id": "ae1e16c2",
   "metadata": {},
   "outputs": [
    {
     "data": {
      "text/plain": [
       "LogisticRegression()"
      ]
     },
     "execution_count": 23,
     "metadata": {},
     "output_type": "execute_result"
    }
   ],
   "source": [
    "logiReg.fit(X_train, y_train)"
   ]
  },
  {
   "cell_type": "code",
   "execution_count": 24,
   "id": "65f0b962",
   "metadata": {},
   "outputs": [],
   "source": [
    "prediction = logiReg.predict(X_test)"
   ]
  },
  {
   "cell_type": "markdown",
   "id": "ba81425c",
   "metadata": {},
   "source": [
    "The ${\\tt predict\\_proba()}$ method can be used to predict the probability that the\n",
    "market will go down, given values of the predictors."
   ]
  },
  {
   "cell_type": "code",
   "execution_count": 26,
   "id": "cc52b948",
   "metadata": {},
   "outputs": [
    {
     "name": "stdout",
     "output_type": "stream",
     "text": [
      "['Up' 'Up' 'Up' 'Up' 'Down' 'Up' 'Up' 'Up' 'Up' 'Up' 'Up' 'Down' 'Up' 'Up'\n",
      " 'Up' 'Up' 'Down' 'Down' 'Down' 'Up' 'Down' 'Down' 'Down' 'Up' 'Down'\n",
      " 'Down' 'Up' 'Up' 'Up' 'Down' 'Up' 'Up' 'Up' 'Up' 'Up' 'Up' 'Up' 'Down'\n",
      " 'Down' 'Down' 'Up' 'Down' 'Up' 'Down' 'Down' 'Up' 'Up' 'Up' 'Up' 'Up'\n",
      " 'Up' 'Up' 'Up' 'Down' 'Up' 'Up' 'Down' 'Down' 'Down' 'Down' 'Down' 'Down'\n",
      " 'Down' 'Down' 'Down' 'Down' 'Down' 'Up' 'Up' 'Down' 'Down' 'Up' 'Up'\n",
      " 'Down' 'Down' 'Down' 'Down' 'Down' 'Down' 'Down' 'Down' 'Down' 'Down'\n",
      " 'Down' 'Down' 'Down' 'Down' 'Up' 'Down' 'Down' 'Up' 'Down' 'Up' 'Down'\n",
      " 'Down' 'Down' 'Down' 'Down' 'Down' 'Down' 'Up' 'Down' 'Down' 'Up' 'Down'\n",
      " 'Down' 'Up' 'Up' 'Down' 'Up' 'Down' 'Down' 'Up' 'Down' 'Down' 'Down'\n",
      " 'Down' 'Down' 'Up' 'Down' 'Up' 'Up' 'Up' 'Down' 'Down' 'Up' 'Up' 'Down'\n",
      " 'Down' 'Up' 'Down' 'Down' 'Down' 'Down' 'Down' 'Down' 'Up' 'Down' 'Down'\n",
      " 'Down' 'Down' 'Down' 'Down' 'Down' 'Down' 'Up' 'Up' 'Down' 'Down' 'Up'\n",
      " 'Up' 'Up' 'Down' 'Down' 'Down' 'Down' 'Up' 'Up' 'Up' 'Down' 'Up' 'Down'\n",
      " 'Up' 'Up' 'Up' 'Up' 'Up' 'Down' 'Down' 'Down' 'Up' 'Down' 'Down' 'Down'\n",
      " 'Down' 'Down' 'Up' 'Up' 'Down' 'Down' 'Down' 'Up' 'Down' 'Down' 'Down'\n",
      " 'Down' 'Down' 'Down' 'Down' 'Down' 'Down' 'Down' 'Up' 'Down' 'Down'\n",
      " 'Down' 'Down' 'Down' 'Down' 'Down' 'Down' 'Down' 'Down' 'Down' 'Down'\n",
      " 'Down' 'Down' 'Down' 'Up' 'Down' 'Down' 'Down' 'Down' 'Down' 'Down'\n",
      " 'Down' 'Down' 'Down' 'Down' 'Down' 'Down' 'Down' 'Down' 'Down' 'Down'\n",
      " 'Down' 'Down' 'Down' 'Up' 'Up' 'Down' 'Down' 'Down' 'Down' 'Down' 'Down'\n",
      " 'Down' 'Down' 'Down' 'Down' 'Down' 'Down' 'Down' 'Down' 'Down' 'Down'\n",
      " 'Down' 'Down' 'Up' 'Up' 'Up' 'Up']\n"
     ]
    }
   ],
   "source": [
    "print(prediction)"
   ]
  },
  {
   "cell_type": "code",
   "execution_count": 27,
   "id": "6b5214b5",
   "metadata": {},
   "outputs": [],
   "source": [
    "from sklearn.metrics import classification_report"
   ]
  },
  {
   "cell_type": "code",
   "execution_count": 28,
   "id": "8017c473",
   "metadata": {},
   "outputs": [
    {
     "name": "stdout",
     "output_type": "stream",
     "text": [
      "              precision    recall  f1-score   support\n",
      "\n",
      "        Down       0.44      0.67      0.53       111\n",
      "          Up       0.56      0.34      0.42       141\n",
      "\n",
      "    accuracy                           0.48       252\n",
      "   macro avg       0.50      0.50      0.48       252\n",
      "weighted avg       0.51      0.48      0.47       252\n",
      "\n"
     ]
    }
   ],
   "source": [
    "print(classification_report(y_test, prediction))"
   ]
  },
  {
   "cell_type": "markdown",
   "id": "2750ac92",
   "metadata": {},
   "source": [
    "Wait... How to tell the classes? The attribute $\\tt classes\\_ $ gives you the order of the classes"
   ]
  },
  {
   "cell_type": "code",
   "execution_count": 30,
   "id": "b0f66491",
   "metadata": {},
   "outputs": [],
   "source": [
    "pred_prob = logiReg.predict_proba(X_test)"
   ]
  },
  {
   "cell_type": "code",
   "execution_count": 31,
   "id": "2eaa8569",
   "metadata": {},
   "outputs": [
    {
     "name": "stdout",
     "output_type": "stream",
     "text": [
      "[[0.47268396 0.52731604]\n",
      " [0.48411647 0.51588353]\n",
      " [0.4768594  0.5231406 ]\n",
      " [0.4856483  0.5143517 ]\n",
      " [0.50140495 0.49859505]\n",
      " [0.49876743 0.50123257]\n",
      " [0.49705765 0.50294235]\n",
      " [0.49023423 0.50976577]\n",
      " [0.49569785 0.50430215]\n",
      " [0.48913519 0.51086481]\n",
      " [0.489968   0.510032  ]\n",
      " [0.51844031 0.48155969]\n",
      " [0.49446796 0.50553204]\n",
      " [0.4759033  0.5240967 ]\n",
      " [0.48276749 0.51723251]\n",
      " [0.48732982 0.51267018]\n",
      " [0.50145706 0.49854294]\n",
      " [0.51130496 0.48869504]\n",
      " [0.50360367 0.49639633]\n",
      " [0.49436915 0.50563085]\n",
      " [0.50841804 0.49158196]\n",
      " [0.52046816 0.47953184]\n",
      " [0.50838304 0.49161696]\n",
      " [0.49404017 0.50595983]\n",
      " [0.51060462 0.48939538]\n",
      " [0.5031957  0.4968043 ]\n",
      " [0.4914621  0.5085379 ]\n",
      " [0.4829421  0.5170579 ]\n",
      " [0.49250875 0.50749125]\n",
      " [0.5128351  0.4871649 ]\n",
      " [0.49934885 0.50065115]\n",
      " [0.49874875 0.50125125]\n",
      " [0.49849435 0.50150565]\n",
      " [0.4872878  0.5127122 ]\n",
      " [0.4884135  0.5115865 ]\n",
      " [0.48524853 0.51475147]\n",
      " [0.4878514  0.5121486 ]\n",
      " [0.51486361 0.48513639]\n",
      " [0.51923515 0.48076485]\n",
      " [0.50178734 0.49821266]\n",
      " [0.49925194 0.50074806]\n",
      " [0.50401898 0.49598102]\n",
      " [0.49989035 0.50010965]\n",
      " [0.51117705 0.48882295]\n",
      " [0.5103453  0.4896547 ]\n",
      " [0.49087185 0.50912815]\n",
      " [0.47996127 0.52003873]\n",
      " [0.49079216 0.50920784]\n",
      " [0.48898441 0.51101559]\n",
      " [0.49365432 0.50634568]\n",
      " [0.4922072  0.5077928 ]\n",
      " [0.48071447 0.51928553]\n",
      " [0.49072364 0.50927636]\n",
      " [0.52347706 0.47652294]\n",
      " [0.49737291 0.50262709]\n",
      " [0.49201158 0.50798842]\n",
      " [0.50659556 0.49340444]\n",
      " [0.50380476 0.49619524]\n",
      " [0.50559708 0.49440292]\n",
      " [0.50696462 0.49303538]\n",
      " [0.5217301  0.4782699 ]\n",
      " [0.53082555 0.46917445]\n",
      " [0.5033779  0.4966221 ]\n",
      " [0.50488897 0.49511103]\n",
      " [0.51766767 0.48233233]\n",
      " [0.51242754 0.48757246]\n",
      " [0.5153168  0.4846832 ]\n",
      " [0.49468202 0.50531798]\n",
      " [0.48579942 0.51420058]\n",
      " [0.51706289 0.48293711]\n",
      " [0.50309789 0.49690211]\n",
      " [0.49028072 0.50971928]\n",
      " [0.49551499 0.50448501]\n",
      " [0.5035321  0.4964679 ]\n",
      " [0.52804769 0.47195231]\n",
      " [0.50529127 0.49470873]\n",
      " [0.52608535 0.47391465]\n",
      " [0.52568462 0.47431538]\n",
      " [0.50690364 0.49309636]\n",
      " [0.50275985 0.49724015]\n",
      " [0.51033829 0.48966171]\n",
      " [0.50294005 0.49705995]\n",
      " [0.52404833 0.47595167]\n",
      " [0.5290479  0.4709521 ]\n",
      " [0.51809589 0.48190411]\n",
      " [0.52964889 0.47035111]\n",
      " [0.52061813 0.47938187]\n",
      " [0.49522345 0.50477655]\n",
      " [0.51113736 0.48886264]\n",
      " [0.50100784 0.49899216]\n",
      " [0.49699993 0.50300007]\n",
      " [0.50119953 0.49880047]\n",
      " [0.49853796 0.50146204]\n",
      " [0.51384359 0.48615641]\n",
      " [0.53001644 0.46998356]\n",
      " [0.53594295 0.46405705]\n",
      " [0.51749204 0.48250796]\n",
      " [0.50056303 0.49943697]\n",
      " [0.50228804 0.49771196]\n",
      " [0.50574574 0.49425426]\n",
      " [0.4978786  0.5021214 ]\n",
      " [0.5037686  0.4962314 ]\n",
      " [0.50190979 0.49809021]\n",
      " [0.49725647 0.50274353]\n",
      " [0.50778733 0.49221267]\n",
      " [0.51839651 0.48160349]\n",
      " [0.49121445 0.50878555]\n",
      " [0.48832633 0.51167367]\n",
      " [0.50828722 0.49171278]\n",
      " [0.49942121 0.50057879]\n",
      " [0.50823798 0.49176202]\n",
      " [0.50344868 0.49655132]\n",
      " [0.49977543 0.50022457]\n",
      " [0.50642916 0.49357084]\n",
      " [0.51139009 0.48860991]\n",
      " [0.50952975 0.49047025]\n",
      " [0.5307312  0.4692688 ]\n",
      " [0.50540669 0.49459331]\n",
      " [0.49680561 0.50319439]\n",
      " [0.50212805 0.49787195]\n",
      " [0.49675719 0.50324281]\n",
      " [0.4983975  0.5016025 ]\n",
      " [0.49416736 0.50583264]\n",
      " [0.51776523 0.48223477]\n",
      " [0.51172413 0.48827587]\n",
      " [0.49876979 0.50123021]\n",
      " [0.49229019 0.50770981]\n",
      " [0.52137143 0.47862857]\n",
      " [0.50544652 0.49455348]\n",
      " [0.49905719 0.50094281]\n",
      " [0.52551534 0.47448466]\n",
      " [0.52867415 0.47132585]\n",
      " [0.51425713 0.48574287]\n",
      " [0.50515991 0.49484009]\n",
      " [0.51498908 0.48501092]\n",
      " [0.5062062  0.4937938 ]\n",
      " [0.49129986 0.50870014]\n",
      " [0.51271188 0.48728812]\n",
      " [0.52624352 0.47375648]\n",
      " [0.50918179 0.49081821]\n",
      " [0.50016515 0.49983485]\n",
      " [0.5037566  0.4962434 ]\n",
      " [0.50615258 0.49384742]\n",
      " [0.5151014  0.4848986 ]\n",
      " [0.52300557 0.47699443]\n",
      " [0.49804759 0.50195241]\n",
      " [0.49250239 0.50749761]\n",
      " [0.52214036 0.47785964]\n",
      " [0.52007391 0.47992609]\n",
      " [0.49744286 0.50255714]\n",
      " [0.48748391 0.51251609]\n",
      " [0.4935698  0.5064302 ]\n",
      " [0.51523993 0.48476007]\n",
      " [0.52023188 0.47976812]\n",
      " [0.51359925 0.48640075]\n",
      " [0.50023549 0.49976451]\n",
      " [0.49402829 0.50597171]\n",
      " [0.49143078 0.50856922]\n",
      " [0.49422878 0.50577122]\n",
      " [0.50460413 0.49539587]\n",
      " [0.49891661 0.50108339]\n",
      " [0.50065064 0.49934936]\n",
      " [0.49793783 0.50206217]\n",
      " [0.49417699 0.50582301]\n",
      " [0.49356608 0.50643392]\n",
      " [0.49314257 0.50685743]\n",
      " [0.49984321 0.50015679]\n",
      " [0.50954261 0.49045739]\n",
      " [0.52917812 0.47082188]\n",
      " [0.52723417 0.47276583]\n",
      " [0.49600864 0.50399136]\n",
      " [0.5190624  0.4809376 ]\n",
      " [0.5301849  0.4698151 ]\n",
      " [0.5040108  0.4959892 ]\n",
      " [0.51276234 0.48723766]\n",
      " [0.51729833 0.48270167]\n",
      " [0.49997241 0.50002759]\n",
      " [0.49437309 0.50562691]\n",
      " [0.5107116  0.4892884 ]\n",
      " [0.55428269 0.44571731]\n",
      " [0.5130136  0.4869864 ]\n",
      " [0.49919962 0.50080038]\n",
      " [0.50280791 0.49719209]\n",
      " [0.51873855 0.48126145]\n",
      " [0.515851   0.484149  ]\n",
      " [0.51095272 0.48904728]\n",
      " [0.50737692 0.49262308]\n",
      " [0.513893   0.486107  ]\n",
      " [0.52729861 0.47270139]\n",
      " [0.52318916 0.47681084]\n",
      " [0.50895261 0.49104739]\n",
      " [0.50175565 0.49824435]\n",
      " [0.49393989 0.50606011]\n",
      " [0.51077172 0.48922828]\n",
      " [0.51727867 0.48272133]\n",
      " [0.51137717 0.48862283]\n",
      " [0.5050251  0.4949749 ]\n",
      " [0.51253438 0.48746562]\n",
      " [0.51303232 0.48696768]\n",
      " [0.52557351 0.47442649]\n",
      " [0.52515696 0.47484304]\n",
      " [0.50251636 0.49748364]\n",
      " [0.53542227 0.46457773]\n",
      " [0.52521367 0.47478633]\n",
      " [0.50643817 0.49356183]\n",
      " [0.53836072 0.46163928]\n",
      " [0.53750203 0.46249797]\n",
      " [0.50879127 0.49120873]\n",
      " [0.49895525 0.50104475]\n",
      " [0.53306451 0.46693549]\n",
      " [0.55563653 0.44436347]\n",
      " [0.52357339 0.47642661]\n",
      " [0.53148655 0.46851345]\n",
      " [0.54721102 0.45278898]\n",
      " [0.51529014 0.48470986]\n",
      " [0.50935784 0.49064216]\n",
      " [0.50650922 0.49349078]\n",
      " [0.51359184 0.48640816]\n",
      " [0.53332394 0.46667606]\n",
      " [0.51732645 0.48267355]\n",
      " [0.50682217 0.49317783]\n",
      " [0.51134797 0.48865203]\n",
      " [0.51122303 0.48877697]\n",
      " [0.53338421 0.46661579]\n",
      " [0.53861127 0.46138873]\n",
      " [0.5222776  0.4777224 ]\n",
      " [0.52803474 0.47196526]\n",
      " [0.51870211 0.48129789]\n",
      " [0.47974367 0.52025633]\n",
      " [0.49975103 0.50024897]\n",
      " [0.50661191 0.49338809]\n",
      " [0.51261343 0.48738657]\n",
      " [0.53696405 0.46303595]\n",
      " [0.52731563 0.47268437]\n",
      " [0.51428333 0.48571667]\n",
      " [0.50870561 0.49129439]\n",
      " [0.50823082 0.49176918]\n",
      " [0.50705462 0.49294538]\n",
      " [0.50934354 0.49065646]\n",
      " [0.51144607 0.48855393]\n",
      " [0.52765265 0.47234735]\n",
      " [0.52456296 0.47543704]\n",
      " [0.51630054 0.48369946]\n",
      " [0.5183344  0.4816656 ]\n",
      " [0.50406931 0.49593069]\n",
      " [0.50344076 0.49655924]\n",
      " [0.51563151 0.48436849]\n",
      " [0.51554065 0.48445935]\n",
      " [0.49406198 0.50593802]\n",
      " [0.48307162 0.51692838]\n",
      " [0.48382238 0.51617762]\n",
      " [0.49191329 0.50808671]]\n"
     ]
    }
   ],
   "source": [
    "print(pred_prob)"
   ]
  },
  {
   "cell_type": "code",
   "execution_count": 32,
   "id": "95d33de2",
   "metadata": {},
   "outputs": [
    {
     "data": {
      "text/plain": [
       "array(['Down', 'Up'], dtype=object)"
      ]
     },
     "execution_count": 32,
     "metadata": {},
     "output_type": "execute_result"
    }
   ],
   "source": [
    "logiReg.classes_"
   ]
  },
  {
   "cell_type": "markdown",
   "id": "4d8657aa",
   "metadata": {},
   "source": [
    "How to get the coefficient? The attribute $\\tt coef\\_$ and $\\tt intercept\\_$"
   ]
  },
  {
   "cell_type": "code",
   "execution_count": 33,
   "id": "0ed56af4",
   "metadata": {},
   "outputs": [
    {
     "data": {
      "text/plain": [
       "array([[-0.05410202, -0.04559333,  0.00727805,  0.00653897, -0.00415829,\n",
       "        -0.10995391]])"
      ]
     },
     "execution_count": 33,
     "metadata": {},
     "output_type": "execute_result"
    }
   ],
   "source": [
    "logiReg.coef_"
   ]
  },
  {
   "cell_type": "code",
   "execution_count": 34,
   "id": "c8077d76",
   "metadata": {},
   "outputs": [
    {
     "data": {
      "text/plain": [
       "array([0.18259423])"
      ]
     },
     "execution_count": 34,
     "metadata": {},
     "output_type": "execute_result"
    }
   ],
   "source": [
    "logiReg.intercept_"
   ]
  },
  {
   "cell_type": "markdown",
   "id": "f6d18262",
   "metadata": {},
   "source": [
    "The results are rather disappointing: the **test error\n",
    "rate** (1 - ${\\tt accuracy}$) is 52%, which is worse than random guessing! Of course this result\n",
    "is not all that surprising, given that one would not generally expect to be\n",
    "able to use previous days’ returns to predict future market performance.\n",
    "(After all, if it were possible to do so, then the authors of this book [along with your professor] would probably\n",
    "be out striking it rich rather than teaching statistics.)\n",
    "\n",
    "We recall that the logistic regression model can use different regularization forms. Dy default, it use $L2$. How about try a different regularization form?\n",
    "\n",
    "In the space below, refit a logistic regression using just $L1$. You can do this by setting ${\\tt penalty='l1' }$ and $\\tt solver = 'saga'$"
   ]
  },
  {
   "cell_type": "code",
   "execution_count": 35,
   "id": "8e4e9c43",
   "metadata": {},
   "outputs": [],
   "source": [
    "logiRegL1 = LogisticRegression(penalty = 'l1', solver = 'saga')"
   ]
  },
  {
   "cell_type": "code",
   "execution_count": 36,
   "id": "28be7d78",
   "metadata": {},
   "outputs": [
    {
     "data": {
      "text/plain": [
       "LogisticRegression(penalty='l1', solver='saga')"
      ]
     },
     "execution_count": 36,
     "metadata": {},
     "output_type": "execute_result"
    }
   ],
   "source": [
    "logiRegL1.fit(X_train, y_train)"
   ]
  },
  {
   "cell_type": "code",
   "execution_count": 37,
   "id": "42e758ca",
   "metadata": {},
   "outputs": [],
   "source": [
    "predictionL1 = logiRegL1.predict(X_test)"
   ]
  },
  {
   "cell_type": "code",
   "execution_count": 38,
   "id": "95e75a3c",
   "metadata": {},
   "outputs": [
    {
     "name": "stdout",
     "output_type": "stream",
     "text": [
      "              precision    recall  f1-score   support\n",
      "\n",
      "        Down       0.49      0.53      0.51       111\n",
      "          Up       0.60      0.56      0.58       141\n",
      "\n",
      "    accuracy                           0.55       252\n",
      "   macro avg       0.55      0.55      0.54       252\n",
      "weighted avg       0.55      0.55      0.55       252\n",
      "\n"
     ]
    }
   ],
   "source": [
    "print(classification_report(y_test, predictionL1))"
   ]
  },
  {
   "cell_type": "markdown",
   "id": "103bef9b",
   "metadata": {},
   "source": [
    "In the space below, refit a logistic regression using just *elasticnet*. You can do this by setting ${\\tt penalty='elasticnet' }$ and $\\tt solver = 'saga'$ and $\\tt l1\\_ratio = 05$."
   ]
  },
  {
   "cell_type": "code",
   "execution_count": 39,
   "id": "55e79c54",
   "metadata": {},
   "outputs": [],
   "source": [
    "logiRegEN = LogisticRegression(penalty='elasticnet', solver='saga', l1_ratio = 0.5)"
   ]
  },
  {
   "cell_type": "code",
   "execution_count": 40,
   "id": "12e50617",
   "metadata": {},
   "outputs": [],
   "source": [
    "logiRegEN.fit(X_train, y_train)\n",
    "predictionEN = logiRegEN.predict(X_test)"
   ]
  },
  {
   "cell_type": "code",
   "execution_count": 42,
   "id": "66d5bb64",
   "metadata": {},
   "outputs": [
    {
     "data": {
      "text/plain": [
       "0.49603174603174605"
      ]
     },
     "execution_count": 42,
     "metadata": {},
     "output_type": "execute_result"
    }
   ],
   "source": [
    "logiRegEN.score(X_test, y_test)"
   ]
  },
  {
   "cell_type": "markdown",
   "id": "6076e019",
   "metadata": {},
   "source": [
    "So far, it seems $L_1$ regularization performs better. Remeber $\\lambda$ we mentioned in the lecture. It is the strength on the regularization. We can change $\\tt C$ to vary the weight. Note that $\\tt C$ is the inverse of regularization strength. So, $C= 1/\\lambda$ and smaller $\\tt C$ values specify stronger regularization. Let's see if we can improve the performance of $L_1$ regularization. Let's set $\\tt C$ as 0.1."
   ]
  },
  {
   "cell_type": "code",
   "execution_count": 45,
   "id": "ea073ebf",
   "metadata": {},
   "outputs": [],
   "source": [
    "logiRegL1C = LogisticRegression(penalty = 'l1', solver = 'saga', C=0.1)"
   ]
  },
  {
   "cell_type": "code",
   "execution_count": 46,
   "id": "914dfe8d",
   "metadata": {},
   "outputs": [],
   "source": [
    "logiRegL1C.fit(X_train, y_train)\n",
    "predictionL1C = logiRegL1C.predict(X_test)"
   ]
  },
  {
   "cell_type": "code",
   "execution_count": 47,
   "id": "93805fc2",
   "metadata": {},
   "outputs": [
    {
     "data": {
      "text/plain": [
       "0.5674603174603174"
      ]
     },
     "execution_count": 47,
     "metadata": {},
     "output_type": "execute_result"
    }
   ],
   "source": [
    "logiRegL1C.score(X_test, y_test)"
   ]
  },
  {
   "cell_type": "markdown",
   "id": "c5425271",
   "metadata": {},
   "source": [
    "Can you search for the best $\\tt C$? Calculate the testing accuracy when $\\tt C$ is one of $[0.0001, 0.001, 0.01, 0.1, 1.0, 10.0, 100.0]$"
   ]
  },
  {
   "cell_type": "code",
   "execution_count": 51,
   "id": "96e6ebae",
   "metadata": {},
   "outputs": [
    {
     "name": "stdout",
     "output_type": "stream",
     "text": [
      "The C value is: 0.0001\n",
      "0.5595238095238095\n",
      "The C value is: 0.001\n",
      "0.5595238095238095\n",
      "The C value is: 0.01\n",
      "0.5595238095238095\n",
      "The C value is: 0.1\n",
      "0.5674603174603174\n",
      "The C value is: 1.0\n",
      "0.5476190476190477\n",
      "The C value is: 10.0\n",
      "0.4880952380952381\n",
      "The C value is: 100.0\n",
      "0.4801587301587302\n"
     ]
    }
   ],
   "source": [
    "C_possibilites = [0.0001,0.001,0.01,0.1,1.0,10.0,100.0]\n",
    "for i in C_possibilites:\n",
    "    logiRegL1Cvar = LogisticRegression(penalty = 'l1', solver = 'saga', C=i)\n",
    "    logiRegL1Cvar.fit(X_train, y_train)\n",
    "    print(\"The C value is: \"+str(i))\n",
    "    print(logiRegL1Cvar.score(X_test, y_test))"
   ]
  },
  {
   "cell_type": "markdown",
   "id": "05af6f1c",
   "metadata": {},
   "source": [
    "What if we wants to focus on the \"Down\" days? Change the threshold and increase the precision on the \"Down\" case."
   ]
  },
  {
   "cell_type": "code",
   "execution_count": 64,
   "id": "c64463ee",
   "metadata": {},
   "outputs": [],
   "source": [
    "def threshold_prediction(probs, tau):\n",
    "    return np.where(probs[:, 0]>tau, 'Down','Up')"
   ]
  },
  {
   "cell_type": "code",
   "execution_count": 56,
   "id": "cce5bcdf",
   "metadata": {},
   "outputs": [],
   "source": [
    "logiRegL1C = LogisticRegression(penalty='l1', solver='saga', C=0.1)"
   ]
  },
  {
   "cell_type": "code",
   "execution_count": 57,
   "id": "3eef3b49",
   "metadata": {},
   "outputs": [
    {
     "data": {
      "text/plain": [
       "LogisticRegression(C=0.1, penalty='l1', solver='saga')"
      ]
     },
     "execution_count": 57,
     "metadata": {},
     "output_type": "execute_result"
    }
   ],
   "source": [
    "logiRegL1C.fit(X_train, y_train)"
   ]
  },
  {
   "cell_type": "code",
   "execution_count": 58,
   "id": "09a92068",
   "metadata": {},
   "outputs": [],
   "source": [
    "# the test data set is too small so we are trying \n",
    "#this for demonstration purposes on the training dataset\n",
    "prediction = logiRegL1C.predict(X_train)"
   ]
  },
  {
   "cell_type": "code",
   "execution_count": 59,
   "id": "07f0152f",
   "metadata": {},
   "outputs": [
    {
     "name": "stdout",
     "output_type": "stream",
     "text": [
      "              precision    recall  f1-score   support\n",
      "\n",
      "        Down       0.53      0.19      0.28       491\n",
      "          Up       0.52      0.84      0.64       507\n",
      "\n",
      "    accuracy                           0.52       998\n",
      "   macro avg       0.52      0.51      0.46       998\n",
      "weighted avg       0.52      0.52      0.46       998\n",
      "\n"
     ]
    }
   ],
   "source": [
    "print(classification_report(y_train, prediction))"
   ]
  },
  {
   "cell_type": "code",
   "execution_count": 65,
   "id": "6e691116",
   "metadata": {},
   "outputs": [],
   "source": [
    "prediction8 = threshold_prediction(logiRegL1C.predict_proba(X_train), 0.51)"
   ]
  },
  {
   "cell_type": "code",
   "execution_count": 66,
   "id": "1484b57d",
   "metadata": {},
   "outputs": [
    {
     "name": "stdout",
     "output_type": "stream",
     "text": [
      "              precision    recall  f1-score   support\n",
      "\n",
      "        Down       0.59      0.04      0.08       491\n",
      "          Up       0.51      0.97      0.67       507\n",
      "\n",
      "    accuracy                           0.52       998\n",
      "   macro avg       0.55      0.51      0.38       998\n",
      "weighted avg       0.55      0.52      0.38       998\n",
      "\n"
     ]
    }
   ],
   "source": [
    "print(classification_report(y_train, prediction8))"
   ]
  },
  {
   "cell_type": "markdown",
   "id": "26c1d7b9",
   "metadata": {},
   "source": [
    "# Part 2. Ridge Regression and the Lasso"
   ]
  },
  {
   "cell_type": "markdown",
   "id": "0e67208c",
   "metadata": {},
   "source": [
    "We will use the ${\\tt sklearn}$ package in order to perform ridge regression and\n",
    "the lasso. The main functions in this package that we care about are ${\\tt Ridge()}$, which can be used\n",
    "to fit ridge regression models, and ${\\tt Lasso()}$ which will fit lasso models. They also have cross-validated counterparts: ${\\tt RidgeCV()}$ and ${\\tt LassoCV()}$. We'll use these a bit later.\n",
    "\n",
    "We uset $Hitters$ data set, which is Major League Baseball Data from the 1986 and 1987 seasons.\n",
    "\n",
    "\n",
    "A data frame with 322 observations of major league players on the following 20 variables.\n",
    "\n",
    "${\\tt AtBat}$ Number of times at bat in 1986 Hits Number of hits in 1986\n",
    "\n",
    "${\\tt HmRun}$ Number of home runs in 1986 Runs Number of runs in 1986\n",
    "\n",
    "${\\tt RBI}$ Number of runs batted in in 1986\n",
    "\n",
    "${\\tt Walks}$ Number of walks in 1986\n",
    "\n",
    "${\\tt Years}$ Number of years in the major leagues CAtBat Number of times at bat during his career CHits Number of hits during his career\n",
    "\n",
    "${\\tt CHmRun}$ Number of home runs during his career\n",
    "\n",
    "${\\tt CRuns}$ Number of runs during his career\n",
    "\n",
    "${\\tt CRBI}$ Number of runs batted in during his career\n",
    "\n",
    "${\\tt CWalks}$ Number of walks during his career\n",
    "\n",
    "${\\tt League}$ A factor with levels A and N indicating player’s league at the end of 1986 \n",
    "\n",
    "${\\tt Division}$ A factor with levels E and W indicating player’s division at the end of 1986 PutOuts Number of put outs in 1986\n",
    "\n",
    "${\\tt Assists}$ Number of assists in 1986\n",
    "\n",
    "${\\tt Errors}$ Number of errors in 1986\n",
    "\n",
    "${\\tt Salary}$ 1987 annual salary on opening day in thousands of dollars\n",
    "\n",
    "${\\tt NewLeague}$ A factor with levels A and N indicating player’s league at the beginning of 1987\n"
   ]
  },
  {
   "cell_type": "markdown",
   "id": "98e0e72f",
   "metadata": {},
   "source": [
    "Before proceeding, let's take a look at the data. Then, we need to ensure that the missing values have been removed from the data."
   ]
  },
  {
   "cell_type": "code",
   "execution_count": 67,
   "id": "ffacd8bc",
   "metadata": {},
   "outputs": [],
   "source": [
    "df = pd.read_csv('Hitters.csv')"
   ]
  },
  {
   "cell_type": "code",
   "execution_count": 68,
   "id": "4c7753c7",
   "metadata": {},
   "outputs": [
    {
     "name": "stdout",
     "output_type": "stream",
     "text": [
      "<class 'pandas.core.frame.DataFrame'>\n",
      "RangeIndex: 322 entries, 0 to 321\n",
      "Data columns (total 21 columns):\n",
      " #   Column     Non-Null Count  Dtype  \n",
      "---  ------     --------------  -----  \n",
      " 0   Player     322 non-null    object \n",
      " 1   AtBat      322 non-null    int64  \n",
      " 2   Hits       322 non-null    int64  \n",
      " 3   HmRun      322 non-null    int64  \n",
      " 4   Runs       322 non-null    int64  \n",
      " 5   RBI        322 non-null    int64  \n",
      " 6   Walks      322 non-null    int64  \n",
      " 7   Years      322 non-null    int64  \n",
      " 8   CAtBat     322 non-null    int64  \n",
      " 9   CHits      322 non-null    int64  \n",
      " 10  CHmRun     322 non-null    int64  \n",
      " 11  CRuns      322 non-null    int64  \n",
      " 12  CRBI       322 non-null    int64  \n",
      " 13  CWalks     322 non-null    int64  \n",
      " 14  League     322 non-null    object \n",
      " 15  Division   322 non-null    object \n",
      " 16  PutOuts    322 non-null    int64  \n",
      " 17  Assists    322 non-null    int64  \n",
      " 18  Errors     322 non-null    int64  \n",
      " 19  Salary     263 non-null    float64\n",
      " 20  NewLeague  322 non-null    object \n",
      "dtypes: float64(1), int64(16), object(4)\n",
      "memory usage: 53.0+ KB\n"
     ]
    }
   ],
   "source": [
    "df.info()"
   ]
  },
  {
   "cell_type": "code",
   "execution_count": 69,
   "id": "977135c8",
   "metadata": {},
   "outputs": [
    {
     "data": {
      "text/html": [
       "<div>\n",
       "<style scoped>\n",
       "    .dataframe tbody tr th:only-of-type {\n",
       "        vertical-align: middle;\n",
       "    }\n",
       "\n",
       "    .dataframe tbody tr th {\n",
       "        vertical-align: top;\n",
       "    }\n",
       "\n",
       "    .dataframe thead th {\n",
       "        text-align: right;\n",
       "    }\n",
       "</style>\n",
       "<table border=\"1\" class=\"dataframe\">\n",
       "  <thead>\n",
       "    <tr style=\"text-align: right;\">\n",
       "      <th></th>\n",
       "      <th>Player</th>\n",
       "      <th>AtBat</th>\n",
       "      <th>Hits</th>\n",
       "      <th>HmRun</th>\n",
       "      <th>Runs</th>\n",
       "      <th>RBI</th>\n",
       "      <th>Walks</th>\n",
       "      <th>Years</th>\n",
       "      <th>CAtBat</th>\n",
       "      <th>CHits</th>\n",
       "      <th>...</th>\n",
       "      <th>CRuns</th>\n",
       "      <th>CRBI</th>\n",
       "      <th>CWalks</th>\n",
       "      <th>League</th>\n",
       "      <th>Division</th>\n",
       "      <th>PutOuts</th>\n",
       "      <th>Assists</th>\n",
       "      <th>Errors</th>\n",
       "      <th>Salary</th>\n",
       "      <th>NewLeague</th>\n",
       "    </tr>\n",
       "  </thead>\n",
       "  <tbody>\n",
       "    <tr>\n",
       "      <th>0</th>\n",
       "      <td>-Andy Allanson</td>\n",
       "      <td>293</td>\n",
       "      <td>66</td>\n",
       "      <td>1</td>\n",
       "      <td>30</td>\n",
       "      <td>29</td>\n",
       "      <td>14</td>\n",
       "      <td>1</td>\n",
       "      <td>293</td>\n",
       "      <td>66</td>\n",
       "      <td>...</td>\n",
       "      <td>30</td>\n",
       "      <td>29</td>\n",
       "      <td>14</td>\n",
       "      <td>A</td>\n",
       "      <td>E</td>\n",
       "      <td>446</td>\n",
       "      <td>33</td>\n",
       "      <td>20</td>\n",
       "      <td>NaN</td>\n",
       "      <td>A</td>\n",
       "    </tr>\n",
       "    <tr>\n",
       "      <th>1</th>\n",
       "      <td>-Alan Ashby</td>\n",
       "      <td>315</td>\n",
       "      <td>81</td>\n",
       "      <td>7</td>\n",
       "      <td>24</td>\n",
       "      <td>38</td>\n",
       "      <td>39</td>\n",
       "      <td>14</td>\n",
       "      <td>3449</td>\n",
       "      <td>835</td>\n",
       "      <td>...</td>\n",
       "      <td>321</td>\n",
       "      <td>414</td>\n",
       "      <td>375</td>\n",
       "      <td>N</td>\n",
       "      <td>W</td>\n",
       "      <td>632</td>\n",
       "      <td>43</td>\n",
       "      <td>10</td>\n",
       "      <td>475.0</td>\n",
       "      <td>N</td>\n",
       "    </tr>\n",
       "    <tr>\n",
       "      <th>2</th>\n",
       "      <td>-Alvin Davis</td>\n",
       "      <td>479</td>\n",
       "      <td>130</td>\n",
       "      <td>18</td>\n",
       "      <td>66</td>\n",
       "      <td>72</td>\n",
       "      <td>76</td>\n",
       "      <td>3</td>\n",
       "      <td>1624</td>\n",
       "      <td>457</td>\n",
       "      <td>...</td>\n",
       "      <td>224</td>\n",
       "      <td>266</td>\n",
       "      <td>263</td>\n",
       "      <td>A</td>\n",
       "      <td>W</td>\n",
       "      <td>880</td>\n",
       "      <td>82</td>\n",
       "      <td>14</td>\n",
       "      <td>480.0</td>\n",
       "      <td>A</td>\n",
       "    </tr>\n",
       "    <tr>\n",
       "      <th>3</th>\n",
       "      <td>-Andre Dawson</td>\n",
       "      <td>496</td>\n",
       "      <td>141</td>\n",
       "      <td>20</td>\n",
       "      <td>65</td>\n",
       "      <td>78</td>\n",
       "      <td>37</td>\n",
       "      <td>11</td>\n",
       "      <td>5628</td>\n",
       "      <td>1575</td>\n",
       "      <td>...</td>\n",
       "      <td>828</td>\n",
       "      <td>838</td>\n",
       "      <td>354</td>\n",
       "      <td>N</td>\n",
       "      <td>E</td>\n",
       "      <td>200</td>\n",
       "      <td>11</td>\n",
       "      <td>3</td>\n",
       "      <td>500.0</td>\n",
       "      <td>N</td>\n",
       "    </tr>\n",
       "    <tr>\n",
       "      <th>4</th>\n",
       "      <td>-Andres Galarraga</td>\n",
       "      <td>321</td>\n",
       "      <td>87</td>\n",
       "      <td>10</td>\n",
       "      <td>39</td>\n",
       "      <td>42</td>\n",
       "      <td>30</td>\n",
       "      <td>2</td>\n",
       "      <td>396</td>\n",
       "      <td>101</td>\n",
       "      <td>...</td>\n",
       "      <td>48</td>\n",
       "      <td>46</td>\n",
       "      <td>33</td>\n",
       "      <td>N</td>\n",
       "      <td>E</td>\n",
       "      <td>805</td>\n",
       "      <td>40</td>\n",
       "      <td>4</td>\n",
       "      <td>91.5</td>\n",
       "      <td>N</td>\n",
       "    </tr>\n",
       "  </tbody>\n",
       "</table>\n",
       "<p>5 rows × 21 columns</p>\n",
       "</div>"
      ],
      "text/plain": [
       "              Player  AtBat  Hits  HmRun  Runs  RBI  Walks  Years  CAtBat  \\\n",
       "0     -Andy Allanson    293    66      1    30   29     14      1     293   \n",
       "1        -Alan Ashby    315    81      7    24   38     39     14    3449   \n",
       "2       -Alvin Davis    479   130     18    66   72     76      3    1624   \n",
       "3      -Andre Dawson    496   141     20    65   78     37     11    5628   \n",
       "4  -Andres Galarraga    321    87     10    39   42     30      2     396   \n",
       "\n",
       "   CHits  ...  CRuns  CRBI  CWalks  League Division PutOuts  Assists  Errors  \\\n",
       "0     66  ...     30    29      14       A        E     446       33      20   \n",
       "1    835  ...    321   414     375       N        W     632       43      10   \n",
       "2    457  ...    224   266     263       A        W     880       82      14   \n",
       "3   1575  ...    828   838     354       N        E     200       11       3   \n",
       "4    101  ...     48    46      33       N        E     805       40       4   \n",
       "\n",
       "   Salary  NewLeague  \n",
       "0     NaN          A  \n",
       "1   475.0          N  \n",
       "2   480.0          A  \n",
       "3   500.0          N  \n",
       "4    91.5          N  \n",
       "\n",
       "[5 rows x 21 columns]"
      ]
     },
     "execution_count": 69,
     "metadata": {},
     "output_type": "execute_result"
    }
   ],
   "source": [
    "df.head()"
   ]
  },
  {
   "cell_type": "code",
   "execution_count": 70,
   "id": "2e3f8d0e",
   "metadata": {},
   "outputs": [
    {
     "name": "stdout",
     "output_type": "stream",
     "text": [
      "<class 'pandas.core.frame.DataFrame'>\n",
      "Int64Index: 263 entries, 1 to 321\n",
      "Data columns (total 21 columns):\n",
      " #   Column     Non-Null Count  Dtype  \n",
      "---  ------     --------------  -----  \n",
      " 0   Player     263 non-null    object \n",
      " 1   AtBat      263 non-null    int64  \n",
      " 2   Hits       263 non-null    int64  \n",
      " 3   HmRun      263 non-null    int64  \n",
      " 4   Runs       263 non-null    int64  \n",
      " 5   RBI        263 non-null    int64  \n",
      " 6   Walks      263 non-null    int64  \n",
      " 7   Years      263 non-null    int64  \n",
      " 8   CAtBat     263 non-null    int64  \n",
      " 9   CHits      263 non-null    int64  \n",
      " 10  CHmRun     263 non-null    int64  \n",
      " 11  CRuns      263 non-null    int64  \n",
      " 12  CRBI       263 non-null    int64  \n",
      " 13  CWalks     263 non-null    int64  \n",
      " 14  League     263 non-null    object \n",
      " 15  Division   263 non-null    object \n",
      " 16  PutOuts    263 non-null    int64  \n",
      " 17  Assists    263 non-null    int64  \n",
      " 18  Errors     263 non-null    int64  \n",
      " 19  Salary     263 non-null    float64\n",
      " 20  NewLeague  263 non-null    object \n",
      "dtypes: float64(1), int64(16), object(4)\n",
      "memory usage: 45.2+ KB\n"
     ]
    }
   ],
   "source": [
    "df = df.dropna()\n",
    "df.info()"
   ]
  },
  {
   "cell_type": "code",
   "execution_count": 71,
   "id": "265ea40c",
   "metadata": {},
   "outputs": [
    {
     "data": {
      "text/html": [
       "<div>\n",
       "<style scoped>\n",
       "    .dataframe tbody tr th:only-of-type {\n",
       "        vertical-align: middle;\n",
       "    }\n",
       "\n",
       "    .dataframe tbody tr th {\n",
       "        vertical-align: top;\n",
       "    }\n",
       "\n",
       "    .dataframe thead th {\n",
       "        text-align: right;\n",
       "    }\n",
       "</style>\n",
       "<table border=\"1\" class=\"dataframe\">\n",
       "  <thead>\n",
       "    <tr style=\"text-align: right;\">\n",
       "      <th></th>\n",
       "      <th>AtBat</th>\n",
       "      <th>Hits</th>\n",
       "      <th>HmRun</th>\n",
       "      <th>Runs</th>\n",
       "      <th>RBI</th>\n",
       "      <th>Walks</th>\n",
       "      <th>Years</th>\n",
       "      <th>CAtBat</th>\n",
       "      <th>CHits</th>\n",
       "      <th>CHmRun</th>\n",
       "      <th>CRuns</th>\n",
       "      <th>CRBI</th>\n",
       "      <th>CWalks</th>\n",
       "      <th>League</th>\n",
       "      <th>Division</th>\n",
       "      <th>PutOuts</th>\n",
       "      <th>Assists</th>\n",
       "      <th>Errors</th>\n",
       "      <th>Salary</th>\n",
       "      <th>NewLeague</th>\n",
       "    </tr>\n",
       "  </thead>\n",
       "  <tbody>\n",
       "    <tr>\n",
       "      <th>1</th>\n",
       "      <td>315</td>\n",
       "      <td>81</td>\n",
       "      <td>7</td>\n",
       "      <td>24</td>\n",
       "      <td>38</td>\n",
       "      <td>39</td>\n",
       "      <td>14</td>\n",
       "      <td>3449</td>\n",
       "      <td>835</td>\n",
       "      <td>69</td>\n",
       "      <td>321</td>\n",
       "      <td>414</td>\n",
       "      <td>375</td>\n",
       "      <td>N</td>\n",
       "      <td>W</td>\n",
       "      <td>632</td>\n",
       "      <td>43</td>\n",
       "      <td>10</td>\n",
       "      <td>475.0</td>\n",
       "      <td>N</td>\n",
       "    </tr>\n",
       "    <tr>\n",
       "      <th>2</th>\n",
       "      <td>479</td>\n",
       "      <td>130</td>\n",
       "      <td>18</td>\n",
       "      <td>66</td>\n",
       "      <td>72</td>\n",
       "      <td>76</td>\n",
       "      <td>3</td>\n",
       "      <td>1624</td>\n",
       "      <td>457</td>\n",
       "      <td>63</td>\n",
       "      <td>224</td>\n",
       "      <td>266</td>\n",
       "      <td>263</td>\n",
       "      <td>A</td>\n",
       "      <td>W</td>\n",
       "      <td>880</td>\n",
       "      <td>82</td>\n",
       "      <td>14</td>\n",
       "      <td>480.0</td>\n",
       "      <td>A</td>\n",
       "    </tr>\n",
       "    <tr>\n",
       "      <th>3</th>\n",
       "      <td>496</td>\n",
       "      <td>141</td>\n",
       "      <td>20</td>\n",
       "      <td>65</td>\n",
       "      <td>78</td>\n",
       "      <td>37</td>\n",
       "      <td>11</td>\n",
       "      <td>5628</td>\n",
       "      <td>1575</td>\n",
       "      <td>225</td>\n",
       "      <td>828</td>\n",
       "      <td>838</td>\n",
       "      <td>354</td>\n",
       "      <td>N</td>\n",
       "      <td>E</td>\n",
       "      <td>200</td>\n",
       "      <td>11</td>\n",
       "      <td>3</td>\n",
       "      <td>500.0</td>\n",
       "      <td>N</td>\n",
       "    </tr>\n",
       "    <tr>\n",
       "      <th>4</th>\n",
       "      <td>321</td>\n",
       "      <td>87</td>\n",
       "      <td>10</td>\n",
       "      <td>39</td>\n",
       "      <td>42</td>\n",
       "      <td>30</td>\n",
       "      <td>2</td>\n",
       "      <td>396</td>\n",
       "      <td>101</td>\n",
       "      <td>12</td>\n",
       "      <td>48</td>\n",
       "      <td>46</td>\n",
       "      <td>33</td>\n",
       "      <td>N</td>\n",
       "      <td>E</td>\n",
       "      <td>805</td>\n",
       "      <td>40</td>\n",
       "      <td>4</td>\n",
       "      <td>91.5</td>\n",
       "      <td>N</td>\n",
       "    </tr>\n",
       "    <tr>\n",
       "      <th>5</th>\n",
       "      <td>594</td>\n",
       "      <td>169</td>\n",
       "      <td>4</td>\n",
       "      <td>74</td>\n",
       "      <td>51</td>\n",
       "      <td>35</td>\n",
       "      <td>11</td>\n",
       "      <td>4408</td>\n",
       "      <td>1133</td>\n",
       "      <td>19</td>\n",
       "      <td>501</td>\n",
       "      <td>336</td>\n",
       "      <td>194</td>\n",
       "      <td>A</td>\n",
       "      <td>W</td>\n",
       "      <td>282</td>\n",
       "      <td>421</td>\n",
       "      <td>25</td>\n",
       "      <td>750.0</td>\n",
       "      <td>A</td>\n",
       "    </tr>\n",
       "  </tbody>\n",
       "</table>\n",
       "</div>"
      ],
      "text/plain": [
       "   AtBat  Hits  HmRun  Runs  RBI  Walks  Years  CAtBat  CHits  CHmRun  CRuns  \\\n",
       "1    315    81      7    24   38     39     14    3449    835      69    321   \n",
       "2    479   130     18    66   72     76      3    1624    457      63    224   \n",
       "3    496   141     20    65   78     37     11    5628   1575     225    828   \n",
       "4    321    87     10    39   42     30      2     396    101      12     48   \n",
       "5    594   169      4    74   51     35     11    4408   1133      19    501   \n",
       "\n",
       "   CRBI  CWalks League Division  PutOuts  Assists  Errors  Salary NewLeague  \n",
       "1   414     375      N        W      632       43      10   475.0         N  \n",
       "2   266     263      A        W      880       82      14   480.0         A  \n",
       "3   838     354      N        E      200       11       3   500.0         N  \n",
       "4    46      33      N        E      805       40       4    91.5         N  \n",
       "5   336     194      A        W      282      421      25   750.0         A  "
      ]
     },
     "execution_count": 71,
     "metadata": {},
     "output_type": "execute_result"
    }
   ],
   "source": [
    "df = df.drop('Player', axis =1)\n",
    "df.head()"
   ]
  },
  {
   "cell_type": "code",
   "execution_count": 72,
   "id": "6a833dff",
   "metadata": {},
   "outputs": [
    {
     "name": "stdout",
     "output_type": "stream",
     "text": [
      "<class 'pandas.core.frame.DataFrame'>\n",
      "Int64Index: 263 entries, 1 to 321\n",
      "Data columns (total 6 columns):\n",
      " #   Column       Non-Null Count  Dtype\n",
      "---  ------       --------------  -----\n",
      " 0   League_A     263 non-null    uint8\n",
      " 1   League_N     263 non-null    uint8\n",
      " 2   Division_E   263 non-null    uint8\n",
      " 3   Division_W   263 non-null    uint8\n",
      " 4   NewLeague_A  263 non-null    uint8\n",
      " 5   NewLeague_N  263 non-null    uint8\n",
      "dtypes: uint8(6)\n",
      "memory usage: 3.6 KB\n"
     ]
    }
   ],
   "source": [
    "dummies = pd.get_dummies(df[['League', 'Division', 'NewLeague']])\n",
    "dummies.info()"
   ]
  },
  {
   "cell_type": "code",
   "execution_count": 73,
   "id": "01698844",
   "metadata": {},
   "outputs": [
    {
     "data": {
      "text/html": [
       "<div>\n",
       "<style scoped>\n",
       "    .dataframe tbody tr th:only-of-type {\n",
       "        vertical-align: middle;\n",
       "    }\n",
       "\n",
       "    .dataframe tbody tr th {\n",
       "        vertical-align: top;\n",
       "    }\n",
       "\n",
       "    .dataframe thead th {\n",
       "        text-align: right;\n",
       "    }\n",
       "</style>\n",
       "<table border=\"1\" class=\"dataframe\">\n",
       "  <thead>\n",
       "    <tr style=\"text-align: right;\">\n",
       "      <th></th>\n",
       "      <th>League_A</th>\n",
       "      <th>League_N</th>\n",
       "      <th>Division_E</th>\n",
       "      <th>Division_W</th>\n",
       "      <th>NewLeague_A</th>\n",
       "      <th>NewLeague_N</th>\n",
       "    </tr>\n",
       "  </thead>\n",
       "  <tbody>\n",
       "    <tr>\n",
       "      <th>1</th>\n",
       "      <td>0</td>\n",
       "      <td>1</td>\n",
       "      <td>0</td>\n",
       "      <td>1</td>\n",
       "      <td>0</td>\n",
       "      <td>1</td>\n",
       "    </tr>\n",
       "    <tr>\n",
       "      <th>2</th>\n",
       "      <td>1</td>\n",
       "      <td>0</td>\n",
       "      <td>0</td>\n",
       "      <td>1</td>\n",
       "      <td>1</td>\n",
       "      <td>0</td>\n",
       "    </tr>\n",
       "    <tr>\n",
       "      <th>3</th>\n",
       "      <td>0</td>\n",
       "      <td>1</td>\n",
       "      <td>1</td>\n",
       "      <td>0</td>\n",
       "      <td>0</td>\n",
       "      <td>1</td>\n",
       "    </tr>\n",
       "    <tr>\n",
       "      <th>4</th>\n",
       "      <td>0</td>\n",
       "      <td>1</td>\n",
       "      <td>1</td>\n",
       "      <td>0</td>\n",
       "      <td>0</td>\n",
       "      <td>1</td>\n",
       "    </tr>\n",
       "    <tr>\n",
       "      <th>5</th>\n",
       "      <td>1</td>\n",
       "      <td>0</td>\n",
       "      <td>0</td>\n",
       "      <td>1</td>\n",
       "      <td>1</td>\n",
       "      <td>0</td>\n",
       "    </tr>\n",
       "  </tbody>\n",
       "</table>\n",
       "</div>"
      ],
      "text/plain": [
       "   League_A  League_N  Division_E  Division_W  NewLeague_A  NewLeague_N\n",
       "1         0         1           0           1            0            1\n",
       "2         1         0           0           1            1            0\n",
       "3         0         1           1           0            0            1\n",
       "4         0         1           1           0            0            1\n",
       "5         1         0           0           1            1            0"
      ]
     },
     "execution_count": 73,
     "metadata": {},
     "output_type": "execute_result"
    }
   ],
   "source": [
    "dummies.head()"
   ]
  },
  {
   "cell_type": "code",
   "execution_count": 74,
   "id": "3c4c5521",
   "metadata": {},
   "outputs": [],
   "source": [
    "X_ = df.drop(['League', 'Division', 'NewLeague', 'Salary'], axis=1).astype('float64')"
   ]
  },
  {
   "cell_type": "code",
   "execution_count": 76,
   "id": "356514b8",
   "metadata": {},
   "outputs": [
    {
     "data": {
      "text/html": [
       "<div>\n",
       "<style scoped>\n",
       "    .dataframe tbody tr th:only-of-type {\n",
       "        vertical-align: middle;\n",
       "    }\n",
       "\n",
       "    .dataframe tbody tr th {\n",
       "        vertical-align: top;\n",
       "    }\n",
       "\n",
       "    .dataframe thead th {\n",
       "        text-align: right;\n",
       "    }\n",
       "</style>\n",
       "<table border=\"1\" class=\"dataframe\">\n",
       "  <thead>\n",
       "    <tr style=\"text-align: right;\">\n",
       "      <th></th>\n",
       "      <th>AtBat</th>\n",
       "      <th>Hits</th>\n",
       "      <th>HmRun</th>\n",
       "      <th>Runs</th>\n",
       "      <th>RBI</th>\n",
       "      <th>Walks</th>\n",
       "      <th>Years</th>\n",
       "      <th>CAtBat</th>\n",
       "      <th>CHits</th>\n",
       "      <th>CHmRun</th>\n",
       "      <th>CRuns</th>\n",
       "      <th>CRBI</th>\n",
       "      <th>CWalks</th>\n",
       "      <th>PutOuts</th>\n",
       "      <th>Assists</th>\n",
       "      <th>Errors</th>\n",
       "    </tr>\n",
       "  </thead>\n",
       "  <tbody>\n",
       "    <tr>\n",
       "      <th>1</th>\n",
       "      <td>315.0</td>\n",
       "      <td>81.0</td>\n",
       "      <td>7.0</td>\n",
       "      <td>24.0</td>\n",
       "      <td>38.0</td>\n",
       "      <td>39.0</td>\n",
       "      <td>14.0</td>\n",
       "      <td>3449.0</td>\n",
       "      <td>835.0</td>\n",
       "      <td>69.0</td>\n",
       "      <td>321.0</td>\n",
       "      <td>414.0</td>\n",
       "      <td>375.0</td>\n",
       "      <td>632.0</td>\n",
       "      <td>43.0</td>\n",
       "      <td>10.0</td>\n",
       "    </tr>\n",
       "    <tr>\n",
       "      <th>2</th>\n",
       "      <td>479.0</td>\n",
       "      <td>130.0</td>\n",
       "      <td>18.0</td>\n",
       "      <td>66.0</td>\n",
       "      <td>72.0</td>\n",
       "      <td>76.0</td>\n",
       "      <td>3.0</td>\n",
       "      <td>1624.0</td>\n",
       "      <td>457.0</td>\n",
       "      <td>63.0</td>\n",
       "      <td>224.0</td>\n",
       "      <td>266.0</td>\n",
       "      <td>263.0</td>\n",
       "      <td>880.0</td>\n",
       "      <td>82.0</td>\n",
       "      <td>14.0</td>\n",
       "    </tr>\n",
       "    <tr>\n",
       "      <th>3</th>\n",
       "      <td>496.0</td>\n",
       "      <td>141.0</td>\n",
       "      <td>20.0</td>\n",
       "      <td>65.0</td>\n",
       "      <td>78.0</td>\n",
       "      <td>37.0</td>\n",
       "      <td>11.0</td>\n",
       "      <td>5628.0</td>\n",
       "      <td>1575.0</td>\n",
       "      <td>225.0</td>\n",
       "      <td>828.0</td>\n",
       "      <td>838.0</td>\n",
       "      <td>354.0</td>\n",
       "      <td>200.0</td>\n",
       "      <td>11.0</td>\n",
       "      <td>3.0</td>\n",
       "    </tr>\n",
       "    <tr>\n",
       "      <th>4</th>\n",
       "      <td>321.0</td>\n",
       "      <td>87.0</td>\n",
       "      <td>10.0</td>\n",
       "      <td>39.0</td>\n",
       "      <td>42.0</td>\n",
       "      <td>30.0</td>\n",
       "      <td>2.0</td>\n",
       "      <td>396.0</td>\n",
       "      <td>101.0</td>\n",
       "      <td>12.0</td>\n",
       "      <td>48.0</td>\n",
       "      <td>46.0</td>\n",
       "      <td>33.0</td>\n",
       "      <td>805.0</td>\n",
       "      <td>40.0</td>\n",
       "      <td>4.0</td>\n",
       "    </tr>\n",
       "    <tr>\n",
       "      <th>5</th>\n",
       "      <td>594.0</td>\n",
       "      <td>169.0</td>\n",
       "      <td>4.0</td>\n",
       "      <td>74.0</td>\n",
       "      <td>51.0</td>\n",
       "      <td>35.0</td>\n",
       "      <td>11.0</td>\n",
       "      <td>4408.0</td>\n",
       "      <td>1133.0</td>\n",
       "      <td>19.0</td>\n",
       "      <td>501.0</td>\n",
       "      <td>336.0</td>\n",
       "      <td>194.0</td>\n",
       "      <td>282.0</td>\n",
       "      <td>421.0</td>\n",
       "      <td>25.0</td>\n",
       "    </tr>\n",
       "  </tbody>\n",
       "</table>\n",
       "</div>"
      ],
      "text/plain": [
       "   AtBat   Hits  HmRun  Runs   RBI  Walks  Years  CAtBat   CHits  CHmRun  \\\n",
       "1  315.0   81.0    7.0  24.0  38.0   39.0   14.0  3449.0   835.0    69.0   \n",
       "2  479.0  130.0   18.0  66.0  72.0   76.0    3.0  1624.0   457.0    63.0   \n",
       "3  496.0  141.0   20.0  65.0  78.0   37.0   11.0  5628.0  1575.0   225.0   \n",
       "4  321.0   87.0   10.0  39.0  42.0   30.0    2.0   396.0   101.0    12.0   \n",
       "5  594.0  169.0    4.0  74.0  51.0   35.0   11.0  4408.0  1133.0    19.0   \n",
       "\n",
       "   CRuns   CRBI  CWalks  PutOuts  Assists  Errors  \n",
       "1  321.0  414.0   375.0    632.0     43.0    10.0  \n",
       "2  224.0  266.0   263.0    880.0     82.0    14.0  \n",
       "3  828.0  838.0   354.0    200.0     11.0     3.0  \n",
       "4   48.0   46.0    33.0    805.0     40.0     4.0  \n",
       "5  501.0  336.0   194.0    282.0    421.0    25.0  "
      ]
     },
     "execution_count": 76,
     "metadata": {},
     "output_type": "execute_result"
    }
   ],
   "source": [
    "X_.head()"
   ]
  },
  {
   "cell_type": "code",
   "execution_count": 78,
   "id": "64d5a26a",
   "metadata": {},
   "outputs": [],
   "source": [
    "X_raw = pd.concat([X_, dummies[['League_N', 'Division_W', 'NewLeague_N']]], axis =1)"
   ]
  },
  {
   "cell_type": "code",
   "execution_count": 79,
   "id": "17e8c8ed",
   "metadata": {},
   "outputs": [
    {
     "data": {
      "text/html": [
       "<div>\n",
       "<style scoped>\n",
       "    .dataframe tbody tr th:only-of-type {\n",
       "        vertical-align: middle;\n",
       "    }\n",
       "\n",
       "    .dataframe tbody tr th {\n",
       "        vertical-align: top;\n",
       "    }\n",
       "\n",
       "    .dataframe thead th {\n",
       "        text-align: right;\n",
       "    }\n",
       "</style>\n",
       "<table border=\"1\" class=\"dataframe\">\n",
       "  <thead>\n",
       "    <tr style=\"text-align: right;\">\n",
       "      <th></th>\n",
       "      <th>AtBat</th>\n",
       "      <th>Hits</th>\n",
       "      <th>HmRun</th>\n",
       "      <th>Runs</th>\n",
       "      <th>RBI</th>\n",
       "      <th>Walks</th>\n",
       "      <th>Years</th>\n",
       "      <th>CAtBat</th>\n",
       "      <th>CHits</th>\n",
       "      <th>CHmRun</th>\n",
       "      <th>CRuns</th>\n",
       "      <th>CRBI</th>\n",
       "      <th>CWalks</th>\n",
       "      <th>PutOuts</th>\n",
       "      <th>Assists</th>\n",
       "      <th>Errors</th>\n",
       "      <th>League_N</th>\n",
       "      <th>Division_W</th>\n",
       "      <th>NewLeague_N</th>\n",
       "    </tr>\n",
       "  </thead>\n",
       "  <tbody>\n",
       "    <tr>\n",
       "      <th>1</th>\n",
       "      <td>315.0</td>\n",
       "      <td>81.0</td>\n",
       "      <td>7.0</td>\n",
       "      <td>24.0</td>\n",
       "      <td>38.0</td>\n",
       "      <td>39.0</td>\n",
       "      <td>14.0</td>\n",
       "      <td>3449.0</td>\n",
       "      <td>835.0</td>\n",
       "      <td>69.0</td>\n",
       "      <td>321.0</td>\n",
       "      <td>414.0</td>\n",
       "      <td>375.0</td>\n",
       "      <td>632.0</td>\n",
       "      <td>43.0</td>\n",
       "      <td>10.0</td>\n",
       "      <td>1</td>\n",
       "      <td>1</td>\n",
       "      <td>1</td>\n",
       "    </tr>\n",
       "    <tr>\n",
       "      <th>2</th>\n",
       "      <td>479.0</td>\n",
       "      <td>130.0</td>\n",
       "      <td>18.0</td>\n",
       "      <td>66.0</td>\n",
       "      <td>72.0</td>\n",
       "      <td>76.0</td>\n",
       "      <td>3.0</td>\n",
       "      <td>1624.0</td>\n",
       "      <td>457.0</td>\n",
       "      <td>63.0</td>\n",
       "      <td>224.0</td>\n",
       "      <td>266.0</td>\n",
       "      <td>263.0</td>\n",
       "      <td>880.0</td>\n",
       "      <td>82.0</td>\n",
       "      <td>14.0</td>\n",
       "      <td>0</td>\n",
       "      <td>1</td>\n",
       "      <td>0</td>\n",
       "    </tr>\n",
       "    <tr>\n",
       "      <th>3</th>\n",
       "      <td>496.0</td>\n",
       "      <td>141.0</td>\n",
       "      <td>20.0</td>\n",
       "      <td>65.0</td>\n",
       "      <td>78.0</td>\n",
       "      <td>37.0</td>\n",
       "      <td>11.0</td>\n",
       "      <td>5628.0</td>\n",
       "      <td>1575.0</td>\n",
       "      <td>225.0</td>\n",
       "      <td>828.0</td>\n",
       "      <td>838.0</td>\n",
       "      <td>354.0</td>\n",
       "      <td>200.0</td>\n",
       "      <td>11.0</td>\n",
       "      <td>3.0</td>\n",
       "      <td>1</td>\n",
       "      <td>0</td>\n",
       "      <td>1</td>\n",
       "    </tr>\n",
       "    <tr>\n",
       "      <th>4</th>\n",
       "      <td>321.0</td>\n",
       "      <td>87.0</td>\n",
       "      <td>10.0</td>\n",
       "      <td>39.0</td>\n",
       "      <td>42.0</td>\n",
       "      <td>30.0</td>\n",
       "      <td>2.0</td>\n",
       "      <td>396.0</td>\n",
       "      <td>101.0</td>\n",
       "      <td>12.0</td>\n",
       "      <td>48.0</td>\n",
       "      <td>46.0</td>\n",
       "      <td>33.0</td>\n",
       "      <td>805.0</td>\n",
       "      <td>40.0</td>\n",
       "      <td>4.0</td>\n",
       "      <td>1</td>\n",
       "      <td>0</td>\n",
       "      <td>1</td>\n",
       "    </tr>\n",
       "    <tr>\n",
       "      <th>5</th>\n",
       "      <td>594.0</td>\n",
       "      <td>169.0</td>\n",
       "      <td>4.0</td>\n",
       "      <td>74.0</td>\n",
       "      <td>51.0</td>\n",
       "      <td>35.0</td>\n",
       "      <td>11.0</td>\n",
       "      <td>4408.0</td>\n",
       "      <td>1133.0</td>\n",
       "      <td>19.0</td>\n",
       "      <td>501.0</td>\n",
       "      <td>336.0</td>\n",
       "      <td>194.0</td>\n",
       "      <td>282.0</td>\n",
       "      <td>421.0</td>\n",
       "      <td>25.0</td>\n",
       "      <td>0</td>\n",
       "      <td>1</td>\n",
       "      <td>0</td>\n",
       "    </tr>\n",
       "  </tbody>\n",
       "</table>\n",
       "</div>"
      ],
      "text/plain": [
       "   AtBat   Hits  HmRun  Runs   RBI  Walks  Years  CAtBat   CHits  CHmRun  \\\n",
       "1  315.0   81.0    7.0  24.0  38.0   39.0   14.0  3449.0   835.0    69.0   \n",
       "2  479.0  130.0   18.0  66.0  72.0   76.0    3.0  1624.0   457.0    63.0   \n",
       "3  496.0  141.0   20.0  65.0  78.0   37.0   11.0  5628.0  1575.0   225.0   \n",
       "4  321.0   87.0   10.0  39.0  42.0   30.0    2.0   396.0   101.0    12.0   \n",
       "5  594.0  169.0    4.0  74.0  51.0   35.0   11.0  4408.0  1133.0    19.0   \n",
       "\n",
       "   CRuns   CRBI  CWalks  PutOuts  Assists  Errors  League_N  Division_W  \\\n",
       "1  321.0  414.0   375.0    632.0     43.0    10.0         1           1   \n",
       "2  224.0  266.0   263.0    880.0     82.0    14.0         0           1   \n",
       "3  828.0  838.0   354.0    200.0     11.0     3.0         1           0   \n",
       "4   48.0   46.0    33.0    805.0     40.0     4.0         1           0   \n",
       "5  501.0  336.0   194.0    282.0    421.0    25.0         0           1   \n",
       "\n",
       "   NewLeague_N  \n",
       "1            1  \n",
       "2            0  \n",
       "3            1  \n",
       "4            1  \n",
       "5            0  "
      ]
     },
     "execution_count": 79,
     "metadata": {},
     "output_type": "execute_result"
    }
   ],
   "source": [
    "X_raw.head()"
   ]
  },
  {
   "cell_type": "code",
   "execution_count": 80,
   "id": "dde317d9",
   "metadata": {},
   "outputs": [],
   "source": [
    "y = df.Salary"
   ]
  },
  {
   "cell_type": "markdown",
   "id": "63c4bb00",
   "metadata": {},
   "source": [
    "We will now perform ridge regression and the lasso in order to predict ${\\tt Salary}$ on\n",
    "the ${\\tt Hitters}$ data. Let's set up our data:"
   ]
  },
  {
   "cell_type": "markdown",
   "id": "0a32246c",
   "metadata": {},
   "source": [
    "# Ridge Regression\n",
    "The ${\\tt Ridge()}$ function has an alpha argument ($\\lambda$, but with a different name!) that is used to tune the model. We'll generate an array of alpha values ranging from very big to very small, essentially\n",
    "covering the full range of scenarios from the null model containing\n",
    "only the intercept, to the least squares fit:"
   ]
  },
  {
   "cell_type": "code",
   "execution_count": 88,
   "id": "6d8bf4d5",
   "metadata": {},
   "outputs": [
    {
     "data": {
      "text/plain": [
       "array([5.00000000e+09, 3.78231664e+09, 2.86118383e+09, 2.16438064e+09,\n",
       "       1.63727458e+09, 1.23853818e+09, 9.36908711e+08, 7.08737081e+08,\n",
       "       5.36133611e+08, 4.05565415e+08, 3.06795364e+08, 2.32079442e+08,\n",
       "       1.75559587e+08, 1.32804389e+08, 1.00461650e+08, 7.59955541e+07,\n",
       "       5.74878498e+07, 4.34874501e+07, 3.28966612e+07, 2.48851178e+07,\n",
       "       1.88246790e+07, 1.42401793e+07, 1.07721735e+07, 8.14875417e+06,\n",
       "       6.16423370e+06, 4.66301673e+06, 3.52740116e+06, 2.66834962e+06,\n",
       "       2.01850863e+06, 1.52692775e+06, 1.15506485e+06, 8.73764200e+05,\n",
       "       6.60970574e+05, 5.00000000e+05, 3.78231664e+05, 2.86118383e+05,\n",
       "       2.16438064e+05, 1.63727458e+05, 1.23853818e+05, 9.36908711e+04,\n",
       "       7.08737081e+04, 5.36133611e+04, 4.05565415e+04, 3.06795364e+04,\n",
       "       2.32079442e+04, 1.75559587e+04, 1.32804389e+04, 1.00461650e+04,\n",
       "       7.59955541e+03, 5.74878498e+03, 4.34874501e+03, 3.28966612e+03,\n",
       "       2.48851178e+03, 1.88246790e+03, 1.42401793e+03, 1.07721735e+03,\n",
       "       8.14875417e+02, 6.16423370e+02, 4.66301673e+02, 3.52740116e+02,\n",
       "       2.66834962e+02, 2.01850863e+02, 1.52692775e+02, 1.15506485e+02,\n",
       "       8.73764200e+01, 6.60970574e+01, 5.00000000e+01, 3.78231664e+01,\n",
       "       2.86118383e+01, 2.16438064e+01, 1.63727458e+01, 1.23853818e+01,\n",
       "       9.36908711e+00, 7.08737081e+00, 5.36133611e+00, 4.05565415e+00,\n",
       "       3.06795364e+00, 2.32079442e+00, 1.75559587e+00, 1.32804389e+00,\n",
       "       1.00461650e+00, 7.59955541e-01, 5.74878498e-01, 4.34874501e-01,\n",
       "       3.28966612e-01, 2.48851178e-01, 1.88246790e-01, 1.42401793e-01,\n",
       "       1.07721735e-01, 8.14875417e-02, 6.16423370e-02, 4.66301673e-02,\n",
       "       3.52740116e-02, 2.66834962e-02, 2.01850863e-02, 1.52692775e-02,\n",
       "       1.15506485e-02, 8.73764200e-03, 6.60970574e-03, 5.00000000e-03])"
      ]
     },
     "execution_count": 88,
     "metadata": {},
     "output_type": "execute_result"
    }
   ],
   "source": [
    "alphas = 10**np.linspace(10,-2,100)*0.5\n",
    "alphas"
   ]
  },
  {
   "cell_type": "markdown",
   "id": "8cdfd799",
   "metadata": {},
   "source": [
    "Associated with each alpha value is a vector of ridge regression coefficients, which we'll\n",
    "store in a matrix ${\\tt coefs}$. In this case, it is a $19 \\times 100$\n",
    "matrix, with 19 rows (one for each predictor) and 100\n",
    "columns (one for each value of alpha). Remember that we'll want to standardize the\n",
    "variables so that they are on the same scale."
   ]
  },
  {
   "cell_type": "code",
   "execution_count": 83,
   "id": "0990758e",
   "metadata": {},
   "outputs": [],
   "source": [
    "from sklearn.preprocessing import StandardScaler"
   ]
  },
  {
   "cell_type": "code",
   "execution_count": 84,
   "id": "6868d653",
   "metadata": {},
   "outputs": [],
   "source": [
    "scaler = StandardScaler()\n",
    "X = scaler.fit_transform(X_raw)"
   ]
  },
  {
   "cell_type": "code",
   "execution_count": 85,
   "id": "df434248",
   "metadata": {},
   "outputs": [],
   "source": [
    "from sklearn.linear_model import Ridge, RidgeCV, Lasso, LassoCV\n",
    "from sklearn.metrics import mean_squared_error"
   ]
  },
  {
   "cell_type": "code",
   "execution_count": 93,
   "id": "00e25e4a",
   "metadata": {},
   "outputs": [
    {
     "data": {
      "text/plain": [
       "(100, 19)"
      ]
     },
     "execution_count": 93,
     "metadata": {},
     "output_type": "execute_result"
    }
   ],
   "source": [
    "ridge = Ridge()\n",
    "coefs = []\n",
    "for a in alphas:\n",
    "    ridge.set_params(alpha=a)\n",
    "    ridge.fit(X,y)\n",
    "    coefs.append(ridge.coef_)\n",
    "    \n",
    "np.shape(coefs)"
   ]
  },
  {
   "cell_type": "markdown",
   "id": "81927a72",
   "metadata": {},
   "source": [
    "We expect the coefficient estimates to be much smaller, in terms of $L_2$ norm,\n",
    "when a large value of alpha is used, as compared to when a small value of alpha is\n",
    "used. Let's plot and find out:"
   ]
  },
  {
   "cell_type": "code",
   "execution_count": 95,
   "id": "3eb9f656",
   "metadata": {},
   "outputs": [
    {
     "data": {
      "text/plain": [
       "Text(0, 0.5, 'weights')"
      ]
     },
     "execution_count": 95,
     "metadata": {},
     "output_type": "execute_result"
    },
    {
     "data": {
      "image/png": "[encoded data removed]",
      "text/plain": [
       "<Figure size 432x288 with 1 Axes>"
      ]
     },
     "metadata": {
      "needs_background": "light"
     },
     "output_type": "display_data"
    }
   ],
   "source": [
    "import matplotlib.pyplot as plt\n",
    "ax = plt.gca()\n",
    "ax.plot(alphas, coefs)\n",
    "ax.set_xscale('log')\n",
    "plt.axis('tight')\n",
    "plt.xlabel('alpha')\n",
    "plt.ylabel('weights')"
   ]
  },
  {
   "cell_type": "markdown",
   "id": "62f966b6",
   "metadata": {},
   "source": [
    "We now split the samples into a training set and a test set in order\n",
    "to estimate the test error of ridge regression and the lasso:"
   ]
  },
  {
   "cell_type": "code",
   "execution_count": 96,
   "id": "a4c4082f",
   "metadata": {},
   "outputs": [],
   "source": [
    "from sklearn.model_selection import train_test_split\n",
    "\n",
    "X_train_raw, X_test_raw, y_train, y_test = train_test_split(X_raw, y, test_size = 0.5, random_state = 1)"
   ]
  },
  {
   "cell_type": "code",
   "execution_count": 97,
   "id": "3ad59a7c",
   "metadata": {},
   "outputs": [
    {
     "name": "stdout",
     "output_type": "stream",
     "text": [
      "<class 'pandas.core.frame.DataFrame'>\n",
      "Int64Index: 131 entries, 299 to 50\n",
      "Data columns (total 19 columns):\n",
      " #   Column       Non-Null Count  Dtype  \n",
      "---  ------       --------------  -----  \n",
      " 0   AtBat        131 non-null    float64\n",
      " 1   Hits         131 non-null    float64\n",
      " 2   HmRun        131 non-null    float64\n",
      " 3   Runs         131 non-null    float64\n",
      " 4   RBI          131 non-null    float64\n",
      " 5   Walks        131 non-null    float64\n",
      " 6   Years        131 non-null    float64\n",
      " 7   CAtBat       131 non-null    float64\n",
      " 8   CHits        131 non-null    float64\n",
      " 9   CHmRun       131 non-null    float64\n",
      " 10  CRuns        131 non-null    float64\n",
      " 11  CRBI         131 non-null    float64\n",
      " 12  CWalks       131 non-null    float64\n",
      " 13  PutOuts      131 non-null    float64\n",
      " 14  Assists      131 non-null    float64\n",
      " 15  Errors       131 non-null    float64\n",
      " 16  League_N     131 non-null    uint8  \n",
      " 17  Division_W   131 non-null    uint8  \n",
      " 18  NewLeague_N  131 non-null    uint8  \n",
      "dtypes: float64(16), uint8(3)\n",
      "memory usage: 17.8 KB\n"
     ]
    }
   ],
   "source": [
    "X_train_raw.info()"
   ]
  },
  {
   "cell_type": "code",
   "execution_count": 100,
   "id": "636fcb16",
   "metadata": {},
   "outputs": [],
   "source": [
    "scaler = StandardScaler()\n",
    "X_train = scaler.fit_transform(X_train_raw)\n",
    "X_test = scaler.transform(X_test_raw)"
   ]
  },
  {
   "cell_type": "markdown",
   "id": "d0bddcd5",
   "metadata": {},
   "source": [
    "Next we fit a ridge regression model on the training set, and evaluate\n",
    "its MSE on the test set, using $\\lambda = 4$:"
   ]
  },
  {
   "cell_type": "code",
   "execution_count": 101,
   "id": "d3a65857",
   "metadata": {},
   "outputs": [],
   "source": [
    "ridge2 = Ridge(alpha = 4)\n",
    "ridge2.fit(X_train, y_train)\n",
    "pred2 = ridge2.predict(X_test)"
   ]
  },
  {
   "cell_type": "code",
   "execution_count": 104,
   "id": "a11aee14",
   "metadata": {},
   "outputs": [
    {
     "name": "stdout",
     "output_type": "stream",
     "text": [
      "102144.52395076495\n"
     ]
    }
   ],
   "source": [
    "print(mean_squared_error(y_test, pred2))"
   ]
  },
  {
   "cell_type": "markdown",
   "id": "afbddd82",
   "metadata": {},
   "source": [
    "The test MSE when alpha = 4 is 102144. Now let's see what happens if we use a huge value of alpha, say $10^{10}$:"
   ]
  },
  {
   "cell_type": "code",
   "execution_count": 105,
   "id": "57d26b2e",
   "metadata": {},
   "outputs": [
    {
     "name": "stdout",
     "output_type": "stream",
     "text": [
      "AtBat         -210.807322\n",
      "Hits           193.076932\n",
      "HmRun          -51.437368\n",
      "Runs             1.624070\n",
      "RBI             81.458917\n",
      "Walks           94.582539\n",
      "Years          -28.029476\n",
      "CAtBat        -117.924364\n",
      "CHits           91.159632\n",
      "CHmRun          91.762010\n",
      "CRuns          101.115450\n",
      "CRBI           117.598963\n",
      "CWalks         -38.434685\n",
      "PutOuts        125.556071\n",
      "Assists         25.559188\n",
      "Errors         -18.518904\n",
      "League_N        35.792050\n",
      "Division_W     -60.245442\n",
      "NewLeague_N    -18.650623\n",
      "dtype: float64\n"
     ]
    }
   ],
   "source": [
    "print(pd.Series(ridge2.coef_, index = X_raw.columns))"
   ]
  },
  {
   "cell_type": "code",
   "execution_count": 106,
   "id": "1c1920d7",
   "metadata": {},
   "outputs": [
    {
     "name": "stdout",
     "output_type": "stream",
     "text": [
      "172862.22059245987\n",
      "AtBat          2.526133e-06\n",
      "Hits           2.826091e-06\n",
      "HmRun          2.174902e-06\n",
      "Runs           2.632138e-06\n",
      "RBI            3.183658e-06\n",
      "Walks          2.941154e-06\n",
      "Years          2.478179e-06\n",
      "CAtBat         3.213788e-06\n",
      "CHits          3.432349e-06\n",
      "CHmRun         3.435819e-06\n",
      "CRuns          3.522298e-06\n",
      "CRBI           3.602930e-06\n",
      "CWalks         3.216811e-06\n",
      "PutOuts        2.851209e-06\n",
      "Assists       -4.856786e-08\n",
      "Errors         1.736624e-07\n",
      "League_N      -1.637144e-07\n",
      "Division_W    -1.015188e-06\n",
      "NewLeague_N   -1.325154e-07\n",
      "dtype: float64\n"
     ]
    }
   ],
   "source": [
    "ridgelarge = Ridge(alpha = 10**10)\n",
    "ridgelarge.fit(X_train, y_train)\n",
    "predlarge = ridgelarge.predict(X_test)\n",
    "print(mean_squared_error(y_test, predlarge))\n",
    "print(pd.Series(ridgelarge.coef_, index = X_raw.columns))"
   ]
  },
  {
   "cell_type": "markdown",
   "id": "1311ed8f",
   "metadata": {},
   "source": [
    "This big penalty shrinks the coefficients to a very large degree, essentially reducing to a model containing just the intercept. This over-shrinking makes the model more biased, resulting in a higher MSE."
   ]
  },
  {
   "cell_type": "markdown",
   "id": "376da2bf",
   "metadata": {},
   "source": [
    "Okay, so fitting a ridge regression model with alpha = 4 leads to a much lower test\n",
    "MSE than fitting a model with just an intercept. We now check whether\n",
    "there is any benefit to performing ridge regression with alpha = 4 instead of\n",
    "just performing least squares regression. Recall that least squares is simply\n",
    "ridge regression with alpha = 0."
   ]
  },
  {
   "cell_type": "code",
   "execution_count": 107,
   "id": "3df01f71",
   "metadata": {},
   "outputs": [
    {
     "name": "stdout",
     "output_type": "stream",
     "text": [
      "116690.46856660757\n",
      "AtBat          -266.553048\n",
      "Hits            197.706218\n",
      "HmRun           -38.103182\n",
      "Runs             -1.007996\n",
      "RBI             103.119845\n",
      "Walks            79.750209\n",
      "Years            45.357697\n",
      "CAtBat        -1399.811384\n",
      "CHits          1426.954812\n",
      "CHmRun          264.037977\n",
      "CRuns            86.858781\n",
      "CRBI           -211.142393\n",
      "CWalks           42.533597\n",
      "PutOuts         126.075563\n",
      "Assists          65.816094\n",
      "Errors          -38.313885\n",
      "League_N         66.822855\n",
      "Division_W      -56.870280\n",
      "NewLeague_N     -40.962688\n",
      "dtype: float64\n"
     ]
    }
   ],
   "source": [
    "ridgezero = Ridge(alpha = 0)\n",
    "ridgezero.fit(X_train, y_train)\n",
    "predzero = ridgezero.predict(X_test)\n",
    "print(mean_squared_error(y_test, predzero))\n",
    "print(pd.Series(ridgezero.coef_, index = X_raw.columns))"
   ]
  },
  {
   "cell_type": "markdown",
   "id": "9191fcd3",
   "metadata": {},
   "source": [
    "It looks like we are indeed improving over regular least-squares!\n",
    "\n",
    "Instead of arbitrarily choosing alpha $ = 4$, it would be better to\n",
    "use cross-validation to choose the tuning parameter alpha. We can do this using\n",
    "the cross-validated ridge regression function, ${\\tt RidgeCV()}$. By default, the function\n",
    "performs generalized cross-validation (an efficient form of LOOCV), though this can be changed using the\n",
    "argument ${\\tt cv}$."
   ]
  },
  {
   "cell_type": "code",
   "execution_count": 108,
   "id": "0051264c",
   "metadata": {},
   "outputs": [
    {
     "data": {
      "text/plain": [
       "66.09705742330144"
      ]
     },
     "execution_count": 108,
     "metadata": {},
     "output_type": "execute_result"
    }
   ],
   "source": [
    "ridgecv = RidgeCV(alphas = alphas)\n",
    "ridgecv.fit(X_train, y_train)\n",
    "ridgecv.alpha_"
   ]
  },
  {
   "cell_type": "code",
   "execution_count": 111,
   "id": "b4493a51",
   "metadata": {},
   "outputs": [
    {
     "name": "stdout",
     "output_type": "stream",
     "text": [
      "99980.09304227533\n",
      "AtBat          -5.266903\n",
      "Hits           42.293974\n",
      "HmRun          -4.414799\n",
      "Runs           18.300973\n",
      "RBI            35.122753\n",
      "Walks          50.045214\n",
      "Years           4.266424\n",
      "CAtBat         13.869952\n",
      "CHits          34.924052\n",
      "CHmRun         47.437613\n",
      "CRuns          35.565533\n",
      "CRBI           47.132307\n",
      "CWalks         23.839983\n",
      "PutOuts        87.503814\n",
      "Assists        -2.311463\n",
      "Errors         -2.639522\n",
      "League_N       10.060616\n",
      "Division_W    -47.990988\n",
      "NewLeague_N     4.726928\n",
      "dtype: float64\n"
     ]
    }
   ],
   "source": [
    "predcv = ridgecv.predict(X_test)\n",
    "print(mean_squared_error(y_test, predcv))\n",
    "print(pd.Series(ridgecv.coef_, index = X_raw.columns))"
   ]
  },
  {
   "cell_type": "markdown",
   "id": "1443d163",
   "metadata": {},
   "source": [
    "This represents a further improvement over the test MSE that we got using\n",
    "alpha $ = 4$. Finally, we refit our ridge regression model on the full data set,\n",
    "using the value of alpha chosen by cross-validation, and examine the coefficient\n",
    "estimates."
   ]
  },
  {
   "cell_type": "code",
   "execution_count": 112,
   "id": "379a50b1",
   "metadata": {},
   "outputs": [
    {
     "data": {
      "text/plain": [
       "AtBat         -12.315751\n",
       "Hits           59.087964\n",
       "HmRun          -5.002506\n",
       "Runs           29.619573\n",
       "RBI            22.059137\n",
       "Walks          45.860959\n",
       "Years         -10.825321\n",
       "CAtBat         22.919293\n",
       "CHits          51.084062\n",
       "CHmRun         42.944375\n",
       "CRuns          51.804166\n",
       "CRBI           54.020476\n",
       "CWalks         -7.193088\n",
       "PutOuts        62.138342\n",
       "Assists        10.160514\n",
       "Errors        -16.486264\n",
       "League_N       17.541464\n",
       "Division_W    -53.161910\n",
       "NewLeague_N     0.736461\n",
       "dtype: float64"
      ]
     },
     "execution_count": 112,
     "metadata": {},
     "output_type": "execute_result"
    }
   ],
   "source": [
    "ridgewhole = Ridge(alpha = ridgecv.alpha_)\n",
    "X_S = scaler.fit_transform(X_raw)\n",
    "ridgewhole.fit(X_S, y)\n",
    "pd.Series(ridgewhole.coef_, index = X_raw.columns)"
   ]
  },
  {
   "cell_type": "markdown",
   "id": "7a023fed",
   "metadata": {},
   "source": [
    "As expected, none of the coefficients are exactly zero - ridge regression does not\n",
    "perform variable selection!\n",
    "\n",
    "# The Lasso\n",
    "We saw that ridge regression with a wise choice of alpha can outperform least\n",
    "squares as well as the null model on the Hitters data set. We now ask\n",
    "whether the lasso can yield either a more accurate or a more interpretable\n",
    "model than ridge regression. In order to fit a lasso model, we'll\n",
    "use the ${\\tt Lasso()}$ function; however, this time we'll need to include the argument ${\\tt max_iter=10000}$.\n",
    "Other than that change, we proceed just as we did in fitting a ridge model:"
   ]
  },
  {
   "cell_type": "code",
   "execution_count": 113,
   "id": "0264c512",
   "metadata": {},
   "outputs": [
    {
     "data": {
      "text/plain": [
       "(100, 19)"
      ]
     },
     "execution_count": 113,
     "metadata": {},
     "output_type": "execute_result"
    }
   ],
   "source": [
    "lass = Lasso(max_iter = 10000)\n",
    "coefs = []\n",
    "for a in alphas:\n",
    "    lass.set_params(alpha=a)\n",
    "    lass.fit(X,y)\n",
    "    coefs.append(lass.coef_)\n",
    "    \n",
    "np.shape(coefs)"
   ]
  },
  {
   "cell_type": "code",
   "execution_count": 114,
   "id": "4671d34d",
   "metadata": {},
   "outputs": [
    {
     "data": {
      "text/plain": [
       "Text(0, 0.5, 'weights')"
      ]
     },
     "execution_count": 114,
     "metadata": {},
     "output_type": "execute_result"
    },
    {
     "data": {
      "image/png": "[encoded data removed]",
      "text/plain": [
       "<Figure size 432x288 with 1 Axes>"
      ]
     },
     "metadata": {
      "needs_background": "light"
     },
     "output_type": "display_data"
    }
   ],
   "source": [
    "ax = plt.gca()\n",
    "ax.plot(alphas, coefs)\n",
    "ax.set_xscale('log')\n",
    "plt.axis('tight')\n",
    "plt.xlabel('alpha')\n",
    "plt.ylabel('weights')"
   ]
  },
  {
   "cell_type": "markdown",
   "id": "1aa46bf2",
   "metadata": {},
   "source": [
    "Notice that in the coefficient plot that depending on the choice of tuning\n",
    "parameter, some of the coefficients are exactly equal to zero. We now\n",
    "perform 10-fold cross-validation to choose the best alpha, refit the model, and compute the associated test error:"
   ]
  },
  {
   "cell_type": "code",
   "execution_count": 120,
   "id": "f17d578f",
   "metadata": {},
   "outputs": [],
   "source": [
    "lasscv = LassoCV(alphas = alphas, cv=10, max_iter = 10000)"
   ]
  },
  {
   "cell_type": "code",
   "execution_count": 122,
   "id": "2aad653b",
   "metadata": {},
   "outputs": [
    {
     "data": {
      "text/plain": [
       "105033.00416337383"
      ]
     },
     "execution_count": 122,
     "metadata": {},
     "output_type": "execute_result"
    }
   ],
   "source": [
    "lasscv.fit(X_train, y_train)\n",
    "mean_squared_error(y_test, lasscv.predict(X_test))"
   ]
  },
  {
   "cell_type": "markdown",
   "id": "2bac4518",
   "metadata": {},
   "source": [
    "This is substantially lower than the test set MSE of the null model and of\n",
    "least squares, and only a little worse than the test MSE of ridge regression with alpha\n",
    "chosen by cross-validation.\n",
    "\n",
    "However, the lasso has a substantial advantage over ridge regression in\n",
    "that the resulting coefficient estimates are sparse. Here we see that 13 of\n",
    "the 19 coefficient estimates are exactly zero:"
   ]
  },
  {
   "cell_type": "code",
   "execution_count": 124,
   "id": "f1a17249",
   "metadata": {},
   "outputs": [
    {
     "data": {
      "text/plain": [
       "AtBat            0.000000\n",
       "Hits            49.848096\n",
       "HmRun            0.000000\n",
       "Runs             0.000000\n",
       "RBI              0.000000\n",
       "Walks           66.380815\n",
       "Years            0.000000\n",
       "CAtBat           0.000000\n",
       "CHits            0.000000\n",
       "CHmRun          19.017234\n",
       "CRuns            0.000000\n",
       "CRBI           180.885189\n",
       "CWalks           0.000000\n",
       "PutOuts        109.766693\n",
       "Assists         -0.000000\n",
       "Errors          -0.000000\n",
       "League_N         0.000000\n",
       "Division_W     -43.461215\n",
       "NewLeague_N      0.000000\n",
       "dtype: float64"
      ]
     },
     "execution_count": 124,
     "metadata": {},
     "output_type": "execute_result"
    }
   ],
   "source": [
    "pd.Series(lasscv.coef_, index = X_raw.columns)"
   ]
  },
  {
   "cell_type": "code",
   "execution_count": null,
   "id": "75f6cdc3",
   "metadata": {},
   "outputs": [],
   "source": []
  }
 ],
 "metadata": {
  "kernelspec": {
   "display_name": "Python 3 (ipykernel)",
   "language": "python",
   "name": "python3"
  },
  "language_info": {
   "codemirror_mode": {
    "name": "ipython",
    "version": 3
   },
   "file_extension": ".py",
   "mimetype": "text/x-python",
   "name": "python",
   "nbconvert_exporter": "python",
   "pygments_lexer": "ipython3",
   "version": "3.9.13"
  }
 },
 "nbformat": 4,
 "nbformat_minor": 5
}
